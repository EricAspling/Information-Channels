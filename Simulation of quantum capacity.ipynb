{
 "cells": [
  {
   "cell_type": "code",
   "execution_count": 1,
   "id": "a1841097",
   "metadata": {},
   "outputs": [],
   "source": [
    "import numpy as np\n",
    "from qiskit import*\n",
    "import math as m\n",
    "from scipy import linalg as la\n",
    "import matplotlib.pyplot as plt\n",
    "import pylatexenc\n",
    "from qiskit.quantum_info import*\n",
    "from qiskit.visualization import*\n",
    "from itertools import*\n",
    "%matplotlib inline\n",
    "np.set_printoptions(threshold=sys.maxsize)\n",
    "np.seterr(divide = 'ignore') \n",
    "from numpy.linalg import eig\n",
    "import matplotlib.pyplot as plt\n",
    "import warnings\n",
    "\n",
    "#suppress warnings\n",
    "warnings.filterwarnings('ignore')\n",
    "\n",
    "\n",
    "#we need this block to run the circuit\n",
    "sim = Aer.get_backend('aer_simulator')\n",
    "sigma = 1"
   ]
  },
  {
   "cell_type": "code",
   "execution_count": 2,
   "id": "e1ec2199",
   "metadata": {},
   "outputs": [],
   "source": [
    "#Listing out our parameters\n",
    "c_1 = 1/(np.sqrt(2))\n",
    "c_2 = c_1*1j\n",
    "C2 = 1/(8*(np.pi**2)*sigma**4)\n",
    "val1 = [1,-1]\n",
    "def LPI(lambda_phi):\n",
    "    lambda_pi = np.pi/(np.multiply(4,lambda_phi))*(2*np.pi)**(3/2)*sigma**3\n",
    "    return lambda_pi\n",
    "\n",
    "# def LPI(lambda_phi):\n",
    "#     lambda_pi = 1/(np.multiply(1,lambda_phi))\n",
    "#     return lambda_pi\n",
    "    \n",
    "lambda_phi = [i for i in range(1,106)]\n",
    "lambda_pi = [LPI(lambda_phi)]\n",
    "\n",
    "def C(lambda_pi,lambda_phi):\n",
    "    C = -1j*np.multiply(lambda_phi,lambda_pi)/(2*np.sqrt((2*np.pi)**3)*sigma**3)\n",
    "    return C\n",
    "# def C(lambda_pi,lambda_phi):\n",
    "#     C = 1\n",
    "#     return C\n",
    "def W(xl,xm,zl,zm,lambda_pi,lambda_phi):\n",
    "    W_lm = C2*(4*np.multiply(xl,xm)*np.multiply(lambda_pi,lambda_pi)+2*np.multiply(zl,zm)*(sigma**2)*np.multiply(lambda_phi,lambda_phi)+1j*np.sqrt(2*np.pi)*sigma*np.multiply(lambda_pi,lambda_phi)*(np.multiply(xm,zl)-np.multiply(xl,zm)))\n",
    "    return W_lm\n"
   ]
  },
  {
   "cell_type": "code",
   "execution_count": 3,
   "id": "dba827df",
   "metadata": {},
   "outputs": [],
   "source": [
    "#this block is to Establish the specific projection matrices\n",
    "\n",
    "def Projection_z(x):\n",
    "    proj_z = [x,0] if x==1 else [0,-x]\n",
    "    return proj_z\n",
    "\n",
    "def Projection_y(x):\n",
    "    proj_y = [c_1*x,c_2*x] if x==1 else [-c_1*x,c_2*x]\n",
    "    return proj_y\n",
    "\n",
    "def Projection_x(x):\n",
    "    proj_x = [c_1*x,c_1*x] if x==1 else [-c_1*x,c_1*x]\n",
    "    return proj_x\n"
   ]
  },
  {
   "cell_type": "code",
   "execution_count": 4,
   "id": "f045c83b",
   "metadata": {},
   "outputs": [],
   "source": [
    "#Here we will define equation 70\n",
    "\n",
    "def rho_CB(lpi,lphi):\n",
    "    rho_CB = [1/2*np.kron((np.exp(x1*z1*C(lpi,lphi))*np.exp(-x2*z2*C(lpi,lphi))*np.exp(x3*z3*C(lpi,lphi))*np.exp(-x4*z4*C(lpi,lphi))\\\n",
    "           *np.exp(-1*(W(x1,x2,z1,z2,lpi,lphi)+W(x1,x3,z1,z3,lpi,lphi)+W(x1,x4,z1,z4,lpi,lphi)+W(x2,x3,z2,z3,lpi,lphi)+W(x2,x4,z2,z4,lpi,lphi)+W(x3,x4,z3,z4,lpi,lphi)))\\\n",
    "                               *np.exp(-1/2*(W(x1,x1,z1,z1,lpi,lphi)+W(x2,x2,z2,z2,lpi,lphi)+W(x3,x3,z3,z3,lpi,lphi)+W(x4,x4,z4,z4,lpi,lphi))))\\\n",
    "                                   ,(np.kron((np.conj(Projection_z(k1)).T @ np.outer(Projection_z(-z1),Projection_z(-z1)) @ np.outer(Projection_x(-x1),Projection_x(-x1))@np.outer(Projection_x(x4),Projection_x(x4))@ np.outer(Projection_z(z4),Projection_z(z4)) @ Projection_z(j1))\\\n",
    "                                    ,np.kron(np.outer(Projection_z(-j1),Projection_z(-k1)),(np.outer((np.outer(Projection_z(-z3),Projection_z(-z3))@ np.outer(Projection_x(-x3),Projection_x(-x3)) @ Projection_y(1)), np.conj(Projection_y(1)).T @ np.outer(Projection_x(x2),Projection_x(x2)) @ np.outer(Projection_z(z2),Projection_z(z2))))))))\\\n",
    "                                   for x1 in val1 for z1 in val1 for x2 in val1 for z2 in val1 for x3 in val1 for z3 in val1 for x4 in val1 for z4 in val1 for j1 in val1 for k1 in val1]\n",
    "    return rho_CB\n",
    "\n",
    "def rho_B(lpi,lphi):\n",
    "    rho_B = [1/2*np.kron((np.exp(x1*z1*C(lpi,lphi))*np.exp(-x2*z2*C(lpi,lphi))*np.exp(x3*z3*C(lpi,lphi))*np.exp(-x4*z4*C(lpi,lphi))\\\n",
    "           *np.exp(-1*(W(x1,x2,z1,z2,lpi,lphi)+W(x1,x3,z1,z3,lpi,lphi)+W(x1,x4,z1,z4,lpi,lphi)+W(x2,x3,z2,z3,lpi,lphi)+W(x2,x4,z2,z4,lpi,lphi)+W(x3,x4,z3,z4,lpi,lphi)))\\\n",
    "                               *np.exp(-1/2*(W(x1,x1,z1,z1,lpi,lphi)+W(x2,x2,z2,z2,lpi,lphi)+W(x3,x3,z3,z3,lpi,lphi)+W(x4,x4,z4,z4,lpi,lphi))))\\\n",
    "                                   ,(np.kron((np.conj(Projection_z(j1)).T @ np.outer(Projection_z(-z1),Projection_z(-z1)) @ np.outer(Projection_x(-x1),Projection_x(-x1))@np.outer(Projection_x(x4),Projection_x(x4))@ np.outer(Projection_z(z4),Projection_z(z4)) @ Projection_z(j1))\\\n",
    "                                    ,np.outer(np.outer(Projection_z(-z3),Projection_z(-z3))@ np.outer(Projection_x(-x3),Projection_x(-x3)) @ Projection_y(1), np.conj(Projection_y(1)).T @ np.outer(Projection_x(x2),Projection_x(x2)) @ np.outer(Projection_z(z2),Projection_z(z2))))))\\\n",
    "                                      for x1 in val1 for z1 in val1 for x2 in val1 for z2 in val1 for x3 in val1 for z3 in val1 for x4 in val1 for z4 in val1 for j1 in val1]\n",
    "    return rho_B    "
   ]
  },
  {
   "cell_type": "code",
   "execution_count": 5,
   "id": "6b3fbca1",
   "metadata": {},
   "outputs": [],
   "source": [
    "#This block calculates all of the density matrices from 1-105\n",
    "\n",
    "rho_CB_List = [rho_CB(LPI(i),i) for i in range (1,106)]\n",
    "rho_B_List = [rho_B(LPI(i),i) for i in range (1,106)]\n"
   ]
  },
  {
   "cell_type": "code",
   "execution_count": 6,
   "id": "d2d6a628",
   "metadata": {},
   "outputs": [
    {
     "data": {
      "text/latex": [
       "$$\n",
       " \\rho_{CB} = \n",
       "\\begin{bmatrix}\n",
       "\\tfrac{1}{4} & 0 & 0 & 0.20414  \\\\\n",
       " 0 & \\tfrac{1}{4} & \\tfrac{1}{4} & 0  \\\\\n",
       " 0 & \\tfrac{1}{4} & \\tfrac{1}{4} & 0  \\\\\n",
       " 0.20414 & 0 & 0 & \\tfrac{1}{4}  \\\\\n",
       " \\end{bmatrix}\n",
       "$$"
      ],
      "text/plain": [
       "<IPython.core.display.Latex object>"
      ]
     },
     "metadata": {},
     "output_type": "display_data"
    },
    {
     "data": {
      "text/latex": [
       "$$\n",
       " \\rho_{B} = \n",
       "\\begin{bmatrix}\n",
       "\\tfrac{1}{2} & 0  \\\\\n",
       " 0 & \\tfrac{1}{2}  \\\\\n",
       " \\end{bmatrix}\n",
       "$$"
      ],
      "text/plain": [
       "<IPython.core.display.Latex object>"
      ]
     },
     "metadata": {},
     "output_type": "display_data"
    },
    {
     "data": {
      "text/latex": [
       "$$\n",
       " \\rho_{CB} = \n",
       "\\begin{bmatrix}\n",
       "0.24482 & 0 & 0 & 0.11346  \\\\\n",
       " 0 & 0.25518 & 0.25518 & 0  \\\\\n",
       " 0 & 0.25518 & 0.25518 & 0  \\\\\n",
       " 0.11346 & 0 & 0 & 0.24482  \\\\\n",
       " \\end{bmatrix}\n",
       "$$"
      ],
      "text/plain": [
       "<IPython.core.display.Latex object>"
      ]
     },
     "metadata": {},
     "output_type": "display_data"
    },
    {
     "data": {
      "text/latex": [
       "$$\n",
       " \\rho_{B} = \n",
       "\\begin{bmatrix}\n",
       "\\tfrac{1}{2} & 0  \\\\\n",
       " 0 & \\tfrac{1}{2}  \\\\\n",
       " \\end{bmatrix}\n",
       "$$"
      ],
      "text/plain": [
       "<IPython.core.display.Latex object>"
      ]
     },
     "metadata": {},
     "output_type": "display_data"
    },
    {
     "data": {
      "text/latex": [
       "$$\n",
       " \\rho_{CB} = \n",
       "\\begin{bmatrix}\n",
       "0.08748 & 0 & 0 & 0.00028  \\\\\n",
       " 0 & 0.41252 & 0.41252 & 0  \\\\\n",
       " 0 & 0.41252 & 0.41252 & 0  \\\\\n",
       " 0.00028 & 0 & 0 & 0.08748  \\\\\n",
       " \\end{bmatrix}\n",
       "$$"
      ],
      "text/plain": [
       "<IPython.core.display.Latex object>"
      ]
     },
     "metadata": {},
     "output_type": "display_data"
    },
    {
     "data": {
      "text/latex": [
       "$$\n",
       " \\rho_{B} = \n",
       "\\begin{bmatrix}\n",
       "\\tfrac{1}{2} & 0  \\\\\n",
       " 0 & \\tfrac{1}{2}  \\\\\n",
       " \\end{bmatrix}\n",
       "$$"
      ],
      "text/plain": [
       "<IPython.core.display.Latex object>"
      ]
     },
     "metadata": {},
     "output_type": "display_data"
    },
    {
     "data": {
      "text/latex": [
       "$$\n",
       " \\rho_{CB} = \n",
       "\\begin{bmatrix}\n",
       "0.03006 & 0 & 0 & 0  \\\\\n",
       " 0 & 0.46994 & 0.46994 & 0  \\\\\n",
       " 0 & 0.46994 & 0.46994 & 0  \\\\\n",
       " 0 & 0 & 0 & 0.03006  \\\\\n",
       " \\end{bmatrix}\n",
       "$$"
      ],
      "text/plain": [
       "<IPython.core.display.Latex object>"
      ]
     },
     "metadata": {},
     "output_type": "display_data"
    },
    {
     "data": {
      "text/latex": [
       "$$\n",
       " \\rho_{B} = \n",
       "\\begin{bmatrix}\n",
       "\\tfrac{1}{2} & 0  \\\\\n",
       " 0 & \\tfrac{1}{2}  \\\\\n",
       " \\end{bmatrix}\n",
       "$$"
      ],
      "text/plain": [
       "<IPython.core.display.Latex object>"
      ]
     },
     "metadata": {},
     "output_type": "display_data"
    },
    {
     "data": {
      "text/latex": [
       "$$\n",
       " \\rho_{CB} = \n",
       "\\begin{bmatrix}\n",
       "0.00864 & 0 & 0 & 0  \\\\\n",
       " 0 & 0.49136 & 0.49136 & 0  \\\\\n",
       " 0 & 0.49136 & 0.49136 & 0  \\\\\n",
       " 0 & 0 & 0 & 0.00864  \\\\\n",
       " \\end{bmatrix}\n",
       "$$"
      ],
      "text/plain": [
       "<IPython.core.display.Latex object>"
      ]
     },
     "metadata": {},
     "output_type": "display_data"
    },
    {
     "data": {
      "text/latex": [
       "$$\n",
       " \\rho_{B} = \n",
       "\\begin{bmatrix}\n",
       "\\tfrac{1}{2} & 0  \\\\\n",
       " 0 & \\tfrac{1}{2}  \\\\\n",
       " \\end{bmatrix}\n",
       "$$"
      ],
      "text/plain": [
       "<IPython.core.display.Latex object>"
      ]
     },
     "metadata": {},
     "output_type": "display_data"
    },
    {
     "data": {
      "text/latex": [
       "$$\n",
       " \\rho_{CB} = \n",
       "\\begin{bmatrix}\n",
       "0.00038 & 0 & 0 & 0  \\\\\n",
       " 0 & 0.49962 & 0.49962 & 0  \\\\\n",
       " 0 & 0.49962 & 0.49962 & 0  \\\\\n",
       " 0 & 0 & 0 & 0.00038  \\\\\n",
       " \\end{bmatrix}\n",
       "$$"
      ],
      "text/plain": [
       "<IPython.core.display.Latex object>"
      ]
     },
     "metadata": {},
     "output_type": "display_data"
    },
    {
     "data": {
      "text/latex": [
       "$$\n",
       " \\rho_{B} = \n",
       "\\begin{bmatrix}\n",
       "\\tfrac{1}{2} & 0  \\\\\n",
       " 0 & \\tfrac{1}{2}  \\\\\n",
       " \\end{bmatrix}\n",
       "$$"
      ],
      "text/plain": [
       "<IPython.core.display.Latex object>"
      ]
     },
     "metadata": {},
     "output_type": "display_data"
    },
    {
     "data": {
      "text/latex": [
       "$$\n",
       " \\rho_{CB} = \n",
       "\\begin{bmatrix}\n",
       "0.00035 & 0 & 0 & 0  \\\\\n",
       " 0 & 0.49965 & 0.49965 & 0  \\\\\n",
       " 0 & 0.49965 & 0.49965 & 0  \\\\\n",
       " 0 & 0 & 0 & 0.00035  \\\\\n",
       " \\end{bmatrix}\n",
       "$$"
      ],
      "text/plain": [
       "<IPython.core.display.Latex object>"
      ]
     },
     "metadata": {},
     "output_type": "display_data"
    },
    {
     "data": {
      "text/latex": [
       "$$\n",
       " \\rho_{B} = \n",
       "\\begin{bmatrix}\n",
       "\\tfrac{1}{2} & 0  \\\\\n",
       " 0 & \\tfrac{1}{2}  \\\\\n",
       " \\end{bmatrix}\n",
       "$$"
      ],
      "text/plain": [
       "<IPython.core.display.Latex object>"
      ]
     },
     "metadata": {},
     "output_type": "display_data"
    }
   ],
   "source": [
    "\n",
    "Density_List_CB = [DensityMatrix(sum(rho_CB_List[i])) for i in range(105)]\n",
    "Density_List_B = [DensityMatrix(sum(rho_B_List[i])) for i in range(105)]\n",
    "\n",
    "display(Density_List_CB[0].draw('latex', prefix=\" \\\\rho_{CB} = \"),\n",
    "        Density_List_B[0].draw('latex', prefix=\" \\\\rho_{B} = \"),\n",
    "        Density_List_CB[1].draw('latex', prefix=\" \\\\rho_{CB} = \"),\n",
    "        Density_List_B[1].draw('latex', prefix=\" \\\\rho_{B} = \"),\n",
    "        Density_List_CB[5].draw('latex', prefix=\" \\\\rho_{CB} = \"),\n",
    "        Density_List_B[5].draw('latex', prefix=\" \\\\rho_{B} = \"),\n",
    "        Density_List_CB[10].draw('latex', prefix=\" \\\\rho_{CB} = \"),\n",
    "        Density_List_B[10].draw('latex', prefix=\" \\\\rho_{B} = \"),\n",
    "        Density_List_CB[20].draw('latex', prefix=\" \\\\rho_{CB} = \"),\n",
    "        Density_List_B[20].draw('latex', prefix=\" \\\\rho_{B} = \"),\n",
    "        Density_List_CB[100].draw('latex', prefix=\" \\\\rho_{CB} = \"),\n",
    "        Density_List_B[100].draw('latex', prefix=\" \\\\rho_{B} = \"),\n",
    "        Density_List_CB[104].draw('latex', prefix=\" \\\\rho_{CB} = \"),\n",
    "        Density_List_B[104].draw('latex', prefix=\" \\\\rho_{B} = \"))\n",
    "\n",
    "\n",
    "                                   "
   ]
  },
  {
   "cell_type": "code",
   "execution_count": 7,
   "id": "e271298d",
   "metadata": {},
   "outputs": [
    {
     "name": "stdout",
     "output_type": "stream",
     "text": [
      "[0, 0, 0, 0, 0, 0.15613295829088836, 0.2917550653036505, 0.39990873359022394, 0.4861954926132327, 0.5555672738818618, 0.6119174581226485, 0.6581934133644158, 0.6966048069228157, 0.7288117252958876, 0.7560705462639327, 0.7793412850909839, 0.7993651841424074, 0.8167206156517323, 0.8318635133714296, 0.8451568281324495, 0.856892179488404, 0.8673059250216535, 0.8765912041005903, 0.8849070524003911, 0.8923853648082698, 0.899136262931683, 0.9052522686264849, 0.9108115758959081, 0.9158806360100897, 0.920516215143248, 0.9247670436624376, 0.9286751468949954, 0.932276925656801, 0.9356040388343286, 0.9386841283668191, 0.9415414179702036, 0.9441972101191229, 0.9466703005722127, 0.9489773257281529, 0.9511330549685174, 0.9531506377355501, 0.9550418131914773, 0.9568170888021066, 0.9584858930094273, 0.9600567062060141, 0.9615371734752141, 0.962934201942621, 0.9642540450996095, 0.9655023760587309, 0.9666843513735193, 0.9678046667876452, 0.9688676060658571, 0.9698770838679747, 0.9708366834907554, 0.9717496901599618, 0.9726191204739455, 0.9734477484960536, 0.9742381289209886, 0.9749926176953575, 0.9757133903992719, 0.9764024586671285, 0.9770616848839508, 0.9776927953603811, 0.9782973921652145, 0.9788769637692666, 0.9794328946363314, 0.9799664738781755, 0.9804789030777217, 0.9809713033686379, 0.9814447218561682, 0.9819001374409578, 0.9823384661172818, 0.9827605657911122, 0.9831672406779002, 0.9835592453018016, 0.983937288167327, 0.9843020351030156, 0.9846541123344287, 0.9849941092861357, 0.985322581173695, 0.9856400513678324, 0.9859470135778405, 0.9862439338576849, 0.9865312524578932, 0.9868093855304626, 0.9870787267065718, 0.9873396485523542, 0.9875925039116994, 0.9878376271649661, 0.9880753353697413, 0.9883059293442162, 0.9885296946573603, 0.9887469025548178, 0.9889578108153125, 0.9891626645530476, 0.9893616969615351, 0.989555130004633, 0.9897431750667206, 0.9899260335542474, 0.9901038974582526, 0.990276949883519, 0.9904453655421939, 0.9906093112092558, 0.9907689461522554, 0.9909244225463527]\n"
     ]
    }
   ],
   "source": [
    "#Define Coherent Information and generate the list\n",
    "\n",
    "Coherent_Information = [entropy(Density_List_B[i])-entropy(Density_List_CB[i]) for i in range(105)]\n",
    "\n",
    "\n",
    "Coherent_Information_Zero = [0 if Coherent_Information[i]<0 else Coherent_Information[i] for i in range(105)]\n",
    "print(Coherent_Information_Zero)"
   ]
  },
  {
   "cell_type": "code",
   "execution_count": 8,
   "id": "d20d186b",
   "metadata": {},
   "outputs": [
    {
     "data": {
      "image/png": "[encoded data removed]",
      "text/plain": [
       "<Figure size 432x288 with 1 Axes>"
      ]
     },
     "metadata": {
      "needs_background": "light"
     },
     "output_type": "display_data"
    }
   ],
   "source": [
    "# plotting the points \n",
    "plt.plot(lambda_phi, Coherent_Information_Zero)\n",
    "  \n",
    "# naming the x axis\n",
    "plt.xlabel('\\u03BB/\\u03C3')\n",
    "# naming the y axis\n",
    "plt.ylabel('Coherent Information')\n",
    "  \n",
    "# giving a title to my graph\n",
    "plt.title('Channel Capacity')\n",
    "  \n",
    "# function to show the plot\n",
    "plt.savefig('UDW_Channel_Capacity.pdf')"
   ]
  },
  {
   "cell_type": "code",
   "execution_count": null,
   "id": "3357bcd7",
   "metadata": {},
   "outputs": [],
   "source": []
  },
  {
   "cell_type": "code",
   "execution_count": null,
   "id": "7a638f92",
   "metadata": {},
   "outputs": [],
   "source": []
  }
 ],
 "metadata": {
  "kernelspec": {
   "display_name": "Python 3 (ipykernel)",
   "language": "python",
   "name": "python3"
  },
  "language_info": {
   "codemirror_mode": {
    "name": "ipython",
    "version": 3
   },
   "file_extension": ".py",
   "mimetype": "text/x-python",
   "name": "python",
   "nbconvert_exporter": "python",
   "pygments_lexer": "ipython3",
   "version": "3.9.12"
  }
 },
 "nbformat": 4,
 "nbformat_minor": 5
}
