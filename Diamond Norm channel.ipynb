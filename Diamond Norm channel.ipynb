{
 "cells": [
  {
   "cell_type": "code",
   "execution_count": 10,
   "id": "7807279d",
   "metadata": {},
   "outputs": [],
   "source": [
    "import numpy as np\n",
    "from qiskit import*\n",
    "import math as m\n",
    "from scipy import linalg as la\n",
    "import matplotlib.pyplot as plt\n",
    "import pylatexenc\n",
    "from qiskit.quantum_info import*\n",
    "from qiskit.visualization import*\n",
    "from itertools import chain\n",
    "%matplotlib inline\n",
    "\n",
    "#we need this block to run the circuit\n",
    "sim = Aer.get_backend('aer_simulator')"
   ]
  },
  {
   "cell_type": "code",
   "execution_count": 11,
   "id": "59da8a7a",
   "metadata": {},
   "outputs": [
    {
     "name": "stdout",
     "output_type": "stream",
     "text": [
      "0.7071067811865475 1\n"
     ]
    }
   ],
   "source": [
    "x1 = float(1/np.sqrt(2))\n",
    "x2 = 1;\n",
    "print(x1, x2)"
   ]
  },
  {
   "cell_type": "code",
   "execution_count": 53,
   "id": "9e6c35c6",
   "metadata": {},
   "outputs": [
    {
     "data": {
      "image/png": "[encoded data removed]",
      "text/plain": [
       "<Figure size 1076.86x367.889 with 1 Axes>"
      ]
     },
     "execution_count": 53,
     "metadata": {},
     "output_type": "execute_result"
    }
   ],
   "source": [
    "#Drawing the quantum circuit\n",
    "qr_1 = QuantumRegister(4)\n",
    "qc_test = QuantumCircuit(qr_1)\n",
    "initial_state=[0,x1,x1,0,0,0,0,0,0,0,0,0,0,0,0,0]\n",
    "qc_test.initialize(initial_state,[0,1,2,3])\n",
    "v1 = qc_test.save_statevector(label='v1')\n",
    "# qc_test.h(1)\n",
    "\n",
    "qc_test.cx(1,2)\n",
    "qc_test.cx(2,1)\n",
    "qc_test.cx(2,3)\n",
    "qc_test.cx(3,2)\n",
    "\n",
    "\n",
    "\n",
    "v2 = qc_test.save_statevector(label='v2')\n",
    "# result = sim.run(qc_testj).result()\n",
    "result = execute(qc_test, backend = sim).result()\n",
    "qc_test.draw(output='mpl')"
   ]
  },
  {
   "cell_type": "code",
   "execution_count": 54,
   "id": "935872d0",
   "metadata": {},
   "outputs": [
    {
     "data": {
      "text/latex": [
       "$$\\frac{\\sqrt{2}}{2} |0001\\rangle+\\frac{\\sqrt{2}}{2} |0010\\rangle$$"
      ],
      "text/plain": [
       "<IPython.core.display.Latex object>"
      ]
     },
     "metadata": {},
     "output_type": "display_data"
    },
    {
     "data": {
      "text/latex": [
       "$$\\frac{\\sqrt{2}}{2} |0001\\rangle+\\frac{\\sqrt{2}}{2} |1000\\rangle$$"
      ],
      "text/plain": [
       "<IPython.core.display.Latex object>"
      ]
     },
     "metadata": {},
     "output_type": "display_data"
    }
   ],
   "source": [
    "# Display the output state vector\n",
    "psi_test_in = result.data(0)['v1']\n",
    "psi_test_out = result.data(0)['v2']\n",
    "\n",
    "\n",
    "display(psi_test_in.draw('latex'),\n",
    "        psi_test_out.draw('latex'))"
   ]
  },
  {
   "cell_type": "code",
   "execution_count": 55,
   "id": "00fdca08",
   "metadata": {},
   "outputs": [
    {
     "data": {
      "text/latex": [
       "$$\n",
       "\n",
       "\\begin{bmatrix}\n",
       "0 & 0 & 0 & 0 & \\cdots & 0 & 0 & 0  \\\\\n",
       " 0 & \\frac{1}{2} & 0 & 0 & \\cdots & 0 & 0 & 0  \\\\\n",
       " 0 & 0 & 0 & 0 & \\cdots & 0 & 0 & 0  \\\\\n",
       " 0 & 0 & 0 & 0 & \\cdots & 0 & 0 & 0  \\\\\n",
       " \\vdots & \\vdots & \\vdots & \\vdots & \\ddots & \\vdots & \\vdots & \\vdots \\\\\n",
       " 0 & 0 & 0 & 0 & \\cdots & 0 & 0 & 0  \\\\\n",
       " 0 & 0 & 0 & 0 & \\cdots & 0 & 0 & 0  \\\\\n",
       " 0 & 0 & 0 & 0 & \\cdots & 0 & 0 & 0  \\\\\n",
       " \\end{bmatrix}\n",
       "$$"
      ],
      "text/plain": [
       "<IPython.core.display.Latex object>"
      ]
     },
     "execution_count": 55,
     "metadata": {},
     "output_type": "execute_result"
    }
   ],
   "source": [
    "#Define Density Matrix for qc_test\n",
    "rho_in = DensityMatrix(psi_test_in)\n",
    "rho_out = DensityMatrix(psi_test_out)\n",
    "\n",
    "\n",
    "rho_in.draw('latex')\n",
    "rho_out.draw('latex')"
   ]
  },
  {
   "cell_type": "code",
   "execution_count": 56,
   "id": "0b5a93e7",
   "metadata": {},
   "outputs": [
    {
     "data": {
      "text/latex": [
       "$$\n",
       "\\mathrm{ideal} \\rho_{CB} = \n",
       "\\begin{bmatrix}\n",
       "0 & 0 & 0 & 0  \\\\\n",
       " 0 & \\frac{1}{2} & \\frac{1}{2} & 0  \\\\\n",
       " 0 & \\frac{1}{2} & \\frac{1}{2} & 0  \\\\\n",
       " 0 & 0 & 0 & 0  \\\\\n",
       " \\end{bmatrix}\n",
       "$$"
      ],
      "text/plain": [
       "<IPython.core.display.Latex object>"
      ]
     },
     "execution_count": 56,
     "metadata": {},
     "output_type": "execute_result"
    }
   ],
   "source": [
    "ideal_rho_CB= partial_trace(rho_out,[1,2]) \n",
    "ideal_rho_CB.draw('latex',prefix=\"\\mathrm{ideal} \\\\rho_{CB} = \")"
   ]
  },
  {
   "cell_type": "code",
   "execution_count": 57,
   "id": "49c58d2e",
   "metadata": {},
   "outputs": [],
   "source": [
    "#Listing out our parameters\n",
    "sigma = 1\n",
    "c_1 = 1/(np.sqrt(2))\n",
    "c_2 = c_1*1j\n",
    "C2 = 1/(8*(np.pi**2)*sigma**4)\n",
    "val1 = [1,-1]\n",
    "def LPI(lambda_phi):\n",
    "    lambda_pi = np.pi/(np.multiply(4,lambda_phi))*(2*np.pi)**(3/2)*sigma**3\n",
    "    return lambda_pi\n",
    "\n",
    "# def LPI(lambda_phi):\n",
    "#     lambda_pi = 1/(np.multiply(1,lambda_phi))\n",
    "#     return lambda_pi\n",
    "    \n",
    "lambda_phi = [i for i in range(1,106)]\n",
    "lambda_pi = [LPI(lambda_phi)]\n",
    "\n",
    "def C(lambda_pi,lambda_phi):\n",
    "    C = -1j*np.multiply(lambda_phi,lambda_pi)/(2*np.sqrt((2*np.pi)**3)*sigma**3)\n",
    "    return C\n",
    "# def C(lambda_pi,lambda_phi):\n",
    "#     C = 1\n",
    "#     return C\n",
    "def W(xl,xm,zl,zm,lambda_pi,lambda_phi):\n",
    "    W_lm = C2*(4*np.multiply(xl,xm)*np.multiply(lambda_pi,lambda_pi)+2*np.multiply(zl,zm)*(sigma**2)*np.multiply(lambda_phi,lambda_phi)+1j*np.sqrt(2*np.pi)*sigma*np.multiply(lambda_pi,lambda_phi)*(np.multiply(xm,zl)-np.multiply(xl,zm)))\n",
    "    return W_lm\n",
    "\n",
    "\n",
    "#this block is to Establish the specific projection matrices\n",
    "\n",
    "def Projection_z(x):\n",
    "    proj_z = [x,0] if x==1 else [0,-x]\n",
    "    return proj_z\n",
    "\n",
    "def Projection_y(x):\n",
    "    proj_y = [c_1*x,c_2*x] if x==1 else [-c_1*x,c_2*x]\n",
    "    return proj_y\n",
    "\n",
    "def Projection_x(x):\n",
    "    proj_x = [c_1*x,c_1*x] if x==1 else [-c_1*x,c_1*x]\n",
    "    return proj_x\n",
    "\n",
    "\n",
    "#Here we will define the non ideal channel\n",
    "\n",
    "def rho_CB(lpi,lphi):\n",
    "    rho_CB = [1/2*np.kron((np.exp(x1*z1*C(lpi,lphi))*np.exp(-x2*z2*C(lpi,lphi))*np.exp(x3*z3*C(lpi,lphi))*np.exp(-x4*z4*C(lpi,lphi))\\\n",
    "           *np.exp(-1*(W(x1,x2,z1,z2,lpi,lphi)+W(x1,x3,z1,z3,lpi,lphi)+W(x1,x4,z1,z4,lpi,lphi)+W(x2,x3,z2,z3,lpi,lphi)+W(x2,x4,z2,z4,lpi,lphi)+W(x3,x4,z3,z4,lpi,lphi)))\\\n",
    "                               *np.exp(-1/2*(W(x1,x1,z1,z1,lpi,lphi)+W(x2,x2,z2,z2,lpi,lphi)+W(x3,x3,z3,z3,lpi,lphi)+W(x4,x4,z4,z4,lpi,lphi))))\\\n",
    "                                   ,(np.kron((np.conj(Projection_z(k1)).T @ np.outer(Projection_z(-z1),Projection_z(-z1)) @ np.outer(Projection_x(-x1),Projection_x(-x1))@np.outer(Projection_x(x4),Projection_x(x4))@ np.outer(Projection_z(z4),Projection_z(z4)) @ Projection_z(j1))\\\n",
    "                                    ,np.kron(np.outer(Projection_z(-j1),Projection_z(-k1)),(np.outer((np.outer(Projection_z(-z3),Projection_z(-z3))@ np.outer(Projection_x(-x3),Projection_x(-x3)) @ Projection_y(1)), np.conj(Projection_y(1)).T @ np.outer(Projection_x(x2),Projection_x(x2)) @ np.outer(Projection_z(z2),Projection_z(z2))))))))\\\n",
    "                                   for x1 in val1 for z1 in val1 for x2 in val1 for z2 in val1 for x3 in val1 for z3 in val1 for x4 in val1 for z4 in val1 for j1 in val1 for k1 in val1]\n",
    "    return rho_CB\n"
   ]
  },
  {
   "cell_type": "code",
   "execution_count": 58,
   "id": "cf20de6d",
   "metadata": {},
   "outputs": [],
   "source": [
    "ListNumber = 116\n",
    "rho_CB_List = [rho_CB(LPI(i),i) for i in range (1,ListNumber)]\n",
    "Density_List_CB = [DensityMatrix(sum(rho_CB_List[i])) for i in range(ListNumber-1)]"
   ]
  },
  {
   "cell_type": "code",
   "execution_count": 59,
   "id": "63f1261a",
   "metadata": {},
   "outputs": [
    {
     "data": {
      "text/latex": [
       "$$\n",
       " \\rho_{CB} = \n",
       "\\begin{bmatrix}\n",
       "0.0002928933 & 0 & 0 & 0  \\\\\n",
       " 0 & 0.4997071067 & 0.4997071067 & 0  \\\\\n",
       " 0 & 0.4997071067 & 0.4997071067 & 0  \\\\\n",
       " 0 & 0 & 0 & 0.0002928933  \\\\\n",
       " \\end{bmatrix}\n",
       "$$"
      ],
      "text/plain": [
       "<IPython.core.display.Latex object>"
      ]
     },
     "execution_count": 59,
     "metadata": {},
     "output_type": "execute_result"
    }
   ],
   "source": [
    "Density_List_CB[114].draw('latex', prefix=\" \\\\rho_{CB} = \")"
   ]
  },
  {
   "cell_type": "code",
   "execution_count": 62,
   "id": "de6d1bbc",
   "metadata": {},
   "outputs": [
    {
     "ename": "MissingOptionalLibraryError",
     "evalue": "\"The 'cvxpy' library is required to use '`diamond_norm`'. You can install it with 'pip install cvxpy'.\"",
     "output_type": "error",
     "traceback": [
      "\u001b[0;31m---------------------------------------------------------------------------\u001b[0m",
      "\u001b[0;31mMissingOptionalLibraryError\u001b[0m               Traceback (most recent call last)",
      "Cell \u001b[0;32mIn[62], line 3\u001b[0m\n\u001b[1;32m      1\u001b[0m \u001b[39m#Now we find the Diamond norm as the coupling constant strength increases. \u001b[39;00m\n\u001b[0;32m----> 3\u001b[0m Diamond_norm_List\u001b[39m=\u001b[39m[diamond_norm(Density_List_CB[i]\u001b[39m-\u001b[39mideal_rho_CB) \u001b[39mfor\u001b[39;00m i \u001b[39min\u001b[39;00m (\u001b[39m1\u001b[39m,ListNumber)]\n",
      "Cell \u001b[0;32mIn[62], line 3\u001b[0m, in \u001b[0;36m<listcomp>\u001b[0;34m(.0)\u001b[0m\n\u001b[1;32m      1\u001b[0m \u001b[39m#Now we find the Diamond norm as the coupling constant strength increases. \u001b[39;00m\n\u001b[0;32m----> 3\u001b[0m Diamond_norm_List\u001b[39m=\u001b[39m[diamond_norm(Density_List_CB[i]\u001b[39m-\u001b[39;49mideal_rho_CB) \u001b[39mfor\u001b[39;00m i \u001b[39min\u001b[39;00m (\u001b[39m1\u001b[39m,ListNumber)]\n",
      "File \u001b[0;32m~/.local/lib/python3.10/site-packages/qiskit/quantum_info/operators/measures.py:275\u001b[0m, in \u001b[0;36mdiamond_norm\u001b[0;34m(choi, **kwargs)\u001b[0m\n\u001b[1;32m    238\u001b[0m \u001b[39m\u001b[39m\u001b[39mr\u001b[39m\u001b[39m\"\"\"Return the diamond norm of the input quantum channel object.\u001b[39;00m\n\u001b[1;32m    239\u001b[0m \n\u001b[1;32m    240\u001b[0m \u001b[39mThis function computes the completely-bounded trace-norm (often\u001b[39;00m\n\u001b[0;32m   (...)\u001b[0m\n\u001b[1;32m    271\u001b[0m \u001b[39m    SDP solvers.\u001b[39;00m\n\u001b[1;32m    272\u001b[0m \u001b[39m\"\"\"\u001b[39;00m\n\u001b[1;32m    273\u001b[0m \u001b[39mfrom\u001b[39;00m \u001b[39mscipy\u001b[39;00m \u001b[39mimport\u001b[39;00m sparse\n\u001b[0;32m--> 275\u001b[0m cvxpy \u001b[39m=\u001b[39m _cvxpy_check(\u001b[39m\"\u001b[39;49m\u001b[39m`diamond_norm`\u001b[39;49m\u001b[39m\"\u001b[39;49m)  \u001b[39m# Check CVXPY is installed\u001b[39;00m\n\u001b[1;32m    277\u001b[0m choi \u001b[39m=\u001b[39m Choi(_input_formatter(choi, Choi, \u001b[39m\"\u001b[39m\u001b[39mdiamond_norm\u001b[39m\u001b[39m\"\u001b[39m, \u001b[39m\"\u001b[39m\u001b[39mchoi\u001b[39m\u001b[39m\"\u001b[39m))\n\u001b[1;32m    279\u001b[0m \u001b[39mdef\u001b[39;00m \u001b[39mcvx_bmat\u001b[39m(mat_r, mat_i):\n",
      "File \u001b[0;32m~/.local/lib/python3.10/site-packages/qiskit/quantum_info/operators/measures.py:339\u001b[0m, in \u001b[0;36m_cvxpy_check\u001b[0;34m(name)\u001b[0m\n\u001b[1;32m    337\u001b[0m \u001b[39m\u001b[39m\u001b[39m\"\"\"Check that a supported CVXPY version is installed\"\"\"\u001b[39;00m\n\u001b[1;32m    338\u001b[0m \u001b[39m# Check if CVXPY package is installed\u001b[39;00m\n\u001b[0;32m--> 339\u001b[0m _optionals\u001b[39m.\u001b[39;49mHAS_CVXPY\u001b[39m.\u001b[39;49mrequire_now(name)\n\u001b[1;32m    340\u001b[0m \u001b[39mimport\u001b[39;00m \u001b[39mcvxpy\u001b[39;00m\n\u001b[1;32m    342\u001b[0m \u001b[39m# Check CVXPY version\u001b[39;00m\n",
      "File \u001b[0;32m~/.local/lib/python3.10/site-packages/qiskit/utils/lazy_tester.py:223\u001b[0m, in \u001b[0;36mLazyDependencyManager.require_now\u001b[0;34m(self, feature)\u001b[0m\n\u001b[1;32m    221\u001b[0m \u001b[39mif\u001b[39;00m \u001b[39mself\u001b[39m:\n\u001b[1;32m    222\u001b[0m     \u001b[39mreturn\u001b[39;00m\n\u001b[0;32m--> 223\u001b[0m \u001b[39mraise\u001b[39;00m MissingOptionalLibraryError(\n\u001b[1;32m    224\u001b[0m     libname\u001b[39m=\u001b[39m\u001b[39mself\u001b[39m\u001b[39m.\u001b[39m_name, name\u001b[39m=\u001b[39mfeature, pip_install\u001b[39m=\u001b[39m\u001b[39mself\u001b[39m\u001b[39m.\u001b[39m_install, msg\u001b[39m=\u001b[39m\u001b[39mself\u001b[39m\u001b[39m.\u001b[39m_msg\n\u001b[1;32m    225\u001b[0m )\n",
      "\u001b[0;31mMissingOptionalLibraryError\u001b[0m: \"The 'cvxpy' library is required to use '`diamond_norm`'. You can install it with 'pip install cvxpy'.\""
     ]
    }
   ],
   "source": [
    "#Now we find the Diamond norm as the coupling constant strength increases. \n",
    "\n",
    "Diamond_norm_List=[diamond_norm(Density_List_CB[i]-ideal_rho_CB) for i in (1,ListNumber)]"
   ]
  },
  {
   "cell_type": "code",
   "execution_count": null,
   "id": "bc91958b",
   "metadata": {},
   "outputs": [],
   "source": []
  }
 ],
 "metadata": {
  "kernelspec": {
   "display_name": "Python 3 (ipykernel)",
   "language": "python",
   "name": "python3"
  },
  "language_info": {
   "codemirror_mode": {
    "name": "ipython",
    "version": 3
   },
   "file_extension": ".py",
   "mimetype": "text/x-python",
   "name": "python",
   "nbconvert_exporter": "python",
   "pygments_lexer": "ipython3",
   "version": "3.10.6"
  }
 },
 "nbformat": 4,
 "nbformat_minor": 5
}
