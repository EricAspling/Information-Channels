{
 "cells": [
  {
   "cell_type": "code",
   "execution_count": 1,
   "id": "6e82cb98",
   "metadata": {},
   "outputs": [],
   "source": [
    "import numpy as np\n",
    "from qiskit import*\n",
    "import math as m\n",
    "from scipy import linalg as la\n",
    "import matplotlib.pyplot as plt\n",
    "import pylatexenc\n",
    "from qiskit.quantum_info import*\n",
    "from qiskit.visualization import*\n",
    "from itertools import chain\n",
    "%matplotlib inline\n",
    "\n",
    "#we need this line to simulate the quantum circuit\n",
    "\n",
    "sim = Aer.get_backend('aer_simulator')"
   ]
  },
  {
   "cell_type": "code",
   "execution_count": 2,
   "id": "5e1b6980",
   "metadata": {},
   "outputs": [],
   "source": [
    "# In this code I have set up several quantum circuits for which to test information propagation through. The end goal will be to\n",
    "# find quantum coherent information which is directly related to the channel capacity. The Channel Capacity is a measurement of\n",
    "# entanglement propogation through a given quantum channel. For these circuits Qubit 0 and Qubit 1 start as a maximally\n",
    "# entangled bell pair. We then aim to propagate the entanglement from Qubits 0 and 1 to Qubits 0 and 3. This can be shown in the\n",
    "# following two measurements; If two states are maximally entangled the Quantum Mutual Information between the states is 2\n",
    "# if the quantum information channel has successfully passed the entanglement through the Maximal Coherent information will be 1"
   ]
  },
  {
   "cell_type": "code",
   "execution_count": 3,
   "id": "6af0ed83",
   "metadata": {},
   "outputs": [
    {
     "name": "stdout",
     "output_type": "stream",
     "text": [
      "0.7071067811865476 0\n",
      "[0.         0.70710678 0.70710678 0.         0.         0.\n",
      " 0.         0.         0.         0.         0.         0.\n",
      " 0.         0.         0.         0.        ]\n"
     ]
    }
   ],
   "source": [
    "# Assigning the parameters used in intializing our state. \n",
    "\n",
    "x1 = float(m.sqrt(1/2))\n",
    "x2 = 0;\n",
    "c_1 = 1/(np.sqrt(2))\n",
    "c_2 = c_1*1j\n",
    "print(x1, x2)\n",
    "\n",
    "\n",
    "# We use these lines to Entangle Qubits 0 and 1 initially in a bell pair shaped as 1/Sqrt{2}(|01>+|10>).\n",
    "\n",
    "IS1 =[0,x1,x1,0,0,0,0,0]\n",
    "\n",
    "IS2 = [1,0]\n",
    "\n",
    "IS = np.kron(IS2,IS1)\n",
    "\n",
    "print(IS)\n"
   ]
  },
  {
   "cell_type": "code",
   "execution_count": 4,
   "id": "03bbf36f",
   "metadata": {
    "scrolled": true
   },
   "outputs": [],
   "source": [
    "# #Drawing the quantum circuit. This circuit demonstrates a channel that does not propogate entanglement. \n",
    "\n",
    "# qr_1 = QuantumRegister(4)\n",
    "# qc_test = QuantumCircuit(qr_1)\n",
    "# initial_state=[x1,0,0,x1,0,0,0,0,0,0,0,0,0,0,0,0]\n",
    "# qc_test.initialize(initial_state,[0,1,2,3])\n",
    "# v1 = qc_test.save_statevector(label='v1')\n",
    "# qc_test.x(1)\n",
    "# qc_test.x(2)\n",
    "# v15 = qc_test.save_statevector(label='v1.5')\n",
    "# qc_test.x(2)\n",
    "# qc_test.x(3)\n",
    "\n",
    "# v2 = qc_test.save_statevector(label='v2')\n",
    "# qc_testj = assemble(qc_test)\n",
    "# result = sim.run(qc_testj).result()\n",
    "# qc_test.draw(output='mpl')"
   ]
  },
  {
   "cell_type": "code",
   "execution_count": 5,
   "id": "05015367",
   "metadata": {},
   "outputs": [
    {
     "data": {
      "image/png": "[encoded data removed]",
      "text/plain": [
       "<Figure size 821.978x264.88 with 1 Axes>"
      ]
     },
     "execution_count": 5,
     "metadata": {},
     "output_type": "execute_result"
    }
   ],
   "source": [
    "# Drawing the quantum circuit. This specific Circuit is similar to swap gates \n",
    "# but transmits entanglement only if quibt two is initially in the zero state.\n",
    "\n",
    "qr_1 = QuantumRegister(4)\n",
    "qc_test = QuantumCircuit(qr_1)\n",
    "initial_state=IS\n",
    "qc_test.initialize(initial_state,[0,1,2,3])\n",
    "v1 = qc_test.save_statevector(label='v1')\n",
    "qc_test.cx(1,2)\n",
    "qc_test.cx(2,1)\n",
    "v15 = qc_test.save_statevector(label='v15')\n",
    "qc_test.cx(2,3)\n",
    "qc_test.cx(3,2)\n",
    "\n",
    "v2 = qc_test.save_statevector(label='v2')\n",
    "qc_testj = assemble(qc_test)\n",
    "result = sim.run(qc_testj).result()\n",
    "qc_test.draw(output='mpl')"
   ]
  },
  {
   "cell_type": "code",
   "execution_count": 6,
   "id": "d1fd1fbb",
   "metadata": {},
   "outputs": [],
   "source": [
    "# #Drawing the quantum circuit. \n",
    "# #The Swap gate demonstrates a perfect quantum channel, passing entanglement from qubit 1 to qubit 3. \n",
    "\n",
    "# qr_1 = QuantumRegister(4)\n",
    "# qc_test = QuantumCircuit(qr_1)\n",
    "# initial_state=[x1,0,0,x1,0,0,0,0,0,0,0,0,0,0,0,0]\n",
    "# qc_test.initialize(initial_state,[0,1,2,3])\n",
    "# v1 = qc_test.save_statevector(label='v1')\n",
    "# qc_test.swap(1,2)\n",
    "# qc_test.swap(2,3)\n",
    "\n",
    "\n",
    "# v2 = qc_test.save_statevector(label='v2')\n",
    "# qc_testj = assemble(qc_test)\n",
    "# result = sim.run(qc_testj).result()\n",
    "# qc_test.draw(output='mpl')\n"
   ]
  },
  {
   "cell_type": "code",
   "execution_count": 8,
   "id": "aa2fe798",
   "metadata": {},
   "outputs": [
    {
     "data": {
      "text/latex": [
       "$$\\frac{\\sqrt{2}}{2} |0001\\rangle+\\frac{\\sqrt{2}}{2} |0010\\rangle$$"
      ],
      "text/plain": [
       "<IPython.core.display.Latex object>"
      ]
     },
     "metadata": {},
     "output_type": "display_data"
    },
    {
     "data": {
      "text/latex": [
       "$$\\frac{\\sqrt{2}}{2} |0001\\rangle+\\frac{\\sqrt{2}}{2} |1000\\rangle$$"
      ],
      "text/plain": [
       "<IPython.core.display.Latex object>"
      ]
     },
     "metadata": {},
     "output_type": "display_data"
    }
   ],
   "source": [
    "# Display the input and output state vector. Here we can see the entanlged bell pair of qubits 0 and 1 and\n",
    "# tensored with the zero state of qubits 2 and 3. \n",
    "\n",
    "psi_test_input = result.data(0)['v1']\n",
    "psi_test_output = result.data(0)['v2']\n",
    "\n",
    "\n",
    "display(psi_test_input.draw('latex'),\n",
    "        psi_test_output.draw('latex'))"
   ]
  },
  {
   "cell_type": "code",
   "execution_count": 9,
   "id": "c4e618c1",
   "metadata": {},
   "outputs": [
    {
     "data": {
      "text/latex": [
       "$$\n",
       "\n",
       "\\begin{bmatrix}\n",
       "0 & 0 & 0 & 0 & \\cdots & 0 & 0 & 0  \\\\\n",
       " 0 & \\tfrac{1}{2} & 0 & 0 & \\cdots & 0 & 0 & 0  \\\\\n",
       " 0 & 0 & 0 & 0 & \\cdots & 0 & 0 & 0  \\\\\n",
       " 0 & 0 & 0 & 0 & \\cdots & 0 & 0 & 0  \\\\\n",
       " \\vdots & \\vdots & \\vdots & \\vdots & \\ddots & \\vdots & \\vdots & \\vdots \\\\\n",
       " 0 & 0 & 0 & 0 & \\cdots & 0 & 0 & 0  \\\\\n",
       " 0 & 0 & 0 & 0 & \\cdots & 0 & 0 & 0  \\\\\n",
       " 0 & 0 & 0 & 0 & \\cdots & 0 & 0 & 0  \\\\\n",
       " \\end{bmatrix}\n",
       "$$"
      ],
      "text/plain": [
       "<IPython.core.display.Latex object>"
      ]
     },
     "execution_count": 9,
     "metadata": {},
     "output_type": "execute_result"
    }
   ],
   "source": [
    "#Define Density Matrices for the circuit above. \n",
    "\n",
    "rho_in = DensityMatrix(psi_test_input)\n",
    "rho_out = DensityMatrix(psi_test_output)\n",
    "\n",
    "\n",
    "rho_in.draw('latex')\n",
    "rho_out.draw('latex')"
   ]
  },
  {
   "cell_type": "code",
   "execution_count": 14,
   "id": "9b4d4019",
   "metadata": {},
   "outputs": [
    {
     "data": {
      "text/latex": [
       "$$\n",
       " \\rho_{01\\_in} = \n",
       "\\begin{bmatrix}\n",
       "0 & 0 & 0 & 0  \\\\\n",
       " 0 & \\tfrac{1}{2} & \\tfrac{1}{2} & 0  \\\\\n",
       " 0 & \\tfrac{1}{2} & \\tfrac{1}{2} & 0  \\\\\n",
       " 0 & 0 & 0 & 0  \\\\\n",
       " \\end{bmatrix}\n",
       "$$"
      ],
      "text/plain": [
       "<IPython.core.display.Latex object>"
      ]
     },
     "metadata": {},
     "output_type": "display_data"
    },
    {
     "data": {
      "text/latex": [
       "$$\n",
       " \\rho_{01\\_out} = \n",
       "\\begin{bmatrix}\n",
       "\\tfrac{1}{2} & 0 & 0 & 0  \\\\\n",
       " 0 & \\tfrac{1}{2} & 0 & 0  \\\\\n",
       " 0 & 0 & 0 & 0  \\\\\n",
       " 0 & 0 & 0 & 0  \\\\\n",
       " \\end{bmatrix}\n",
       "$$"
      ],
      "text/plain": [
       "<IPython.core.display.Latex object>"
      ]
     },
     "metadata": {},
     "output_type": "display_data"
    },
    {
     "data": {
      "text/latex": [
       "$$\n",
       " \\rho_{03\\_in} = \n",
       "\\begin{bmatrix}\n",
       "\\tfrac{1}{2} & 0 & 0 & 0  \\\\\n",
       " 0 & \\tfrac{1}{2} & 0 & 0  \\\\\n",
       " 0 & 0 & 0 & 0  \\\\\n",
       " 0 & 0 & 0 & 0  \\\\\n",
       " \\end{bmatrix}\n",
       "$$"
      ],
      "text/plain": [
       "<IPython.core.display.Latex object>"
      ]
     },
     "metadata": {},
     "output_type": "display_data"
    },
    {
     "data": {
      "text/latex": [
       "$$\n",
       " \\rho_{03\\_out} = \n",
       "\\begin{bmatrix}\n",
       "0 & 0 & 0 & 0  \\\\\n",
       " 0 & \\tfrac{1}{2} & \\tfrac{1}{2} & 0  \\\\\n",
       " 0 & \\tfrac{1}{2} & \\tfrac{1}{2} & 0  \\\\\n",
       " 0 & 0 & 0 & 0  \\\\\n",
       " \\end{bmatrix}\n",
       "$$"
      ],
      "text/plain": [
       "<IPython.core.display.Latex object>"
      ]
     },
     "metadata": {},
     "output_type": "display_data"
    },
    {
     "data": {
      "text/latex": [
       "$$\n",
       " \\rho_{3\\_out} = \n",
       "\\begin{bmatrix}\n",
       "\\tfrac{1}{2} & 0  \\\\\n",
       " 0 & \\tfrac{1}{2}  \\\\\n",
       " \\end{bmatrix}\n",
       "$$"
      ],
      "text/plain": [
       "<IPython.core.display.Latex object>"
      ]
     },
     "metadata": {},
     "output_type": "display_data"
    },
    {
     "data": {
      "text/latex": [
       "$$\n",
       " \\rho_{123\\_out} = \n",
       "\\begin{bmatrix}\n",
       "\\tfrac{1}{2} & 0 & 0 & 0 & 0 & 0 & 0 & 0  \\\\\n",
       " 0 & 0 & 0 & 0 & 0 & 0 & 0 & 0  \\\\\n",
       " 0 & 0 & 0 & 0 & 0 & 0 & 0 & 0  \\\\\n",
       " 0 & 0 & 0 & 0 & 0 & 0 & 0 & 0  \\\\\n",
       " 0 & 0 & 0 & 0 & \\tfrac{1}{2} & 0 & 0 & 0  \\\\\n",
       " 0 & 0 & 0 & 0 & 0 & 0 & 0 & 0  \\\\\n",
       " 0 & 0 & 0 & 0 & 0 & 0 & 0 & 0  \\\\\n",
       " 0 & 0 & 0 & 0 & 0 & 0 & 0 & 0  \\\\\n",
       " \\end{bmatrix}\n",
       "$$"
      ],
      "text/plain": [
       "<IPython.core.display.Latex object>"
      ]
     },
     "metadata": {},
     "output_type": "display_data"
    }
   ],
   "source": [
    "# Density Matrices tracing over qubits. The Partial Trace command traces over the qubits in the []. Giving us\n",
    "# reduced density matrices for our entropy calculations. \n",
    "\n",
    "rho_01_in = partial_trace(rho_in,[2,3])\n",
    "rho_01_out = partial_trace(rho_out,[2,3])\n",
    "rho_02_in = partial_trace(rho_in,[1,3])\n",
    "rho_02_out = partial_trace(rho_out,[1,3])\n",
    "rho_03_in = partial_trace(rho_in,[1,2])\n",
    "rho_03_out = partial_trace(rho_out,[1,2])\n",
    "rho_23_in = partial_trace(rho_in,[0,1])\n",
    "rho_23_out = partial_trace(rho_out,[0,1])\n",
    "rho_13_out = partial_trace(rho_out,[0,2])\n",
    "rho_04_out = partial_trace(rho_out,[1,3])\n",
    "\n",
    "# Our Quantum channel is defined as Qubit 1 -> Qubit 3 so these are the density matrices associated with that. \n",
    "\n",
    "rho_123_in = partial_trace(rho_in,[0])\n",
    "rho_123_out = partial_trace(rho_out,[0])\n",
    "\n",
    "#output state read on qubit from the quantum channel. Reduced density matrices of individual qubits.\n",
    "\n",
    "rho_0_in = partial_trace(rho_in,[1,2,3])\n",
    "rho_0_out = partial_trace(rho_out,[1,2,3])\n",
    "rho_1_in = partial_trace(rho_in,[0,2,3])\n",
    "rho_1_out = partial_trace(rho_out,[0,2,3])\n",
    "rho_2_in = partial_trace(rho_in,[0,1,3])\n",
    "rho_2_out = partial_trace(rho_out,[0,1,3])\n",
    "rho_3_in = partial_trace(rho_in,[0,1,2])\n",
    "rho_3_out = partial_trace(rho_out,[0,1,2])\n",
    "\n",
    "# These code lines make for pretty density matrices. \n",
    "\n",
    "display(rho_01_in.draw('latex', prefix=\" \\\\rho_{01\\_in} = \"),\n",
    "        rho_01_out.draw('latex', prefix=\" \\\\rho_{01\\_out} = \"),\n",
    "        rho_03_in.draw('latex', prefix=\" \\\\rho_{03\\_in} = \"),\n",
    "        rho_03_out.draw('latex', prefix=\" \\\\rho_{03\\_out} = \"),\n",
    "        rho_3_out.draw('latex', prefix=\" \\\\rho_{3\\_out} = \"),\n",
    "        rho_123_out.draw('latex', prefix=\" \\\\rho_{123\\_out} = \"))"
   ]
  },
  {
   "cell_type": "code",
   "execution_count": 15,
   "id": "a9d0875d",
   "metadata": {},
   "outputs": [
    {
     "name": "stdout",
     "output_type": "stream",
     "text": [
      "1.6017132519074586e-16 0.9999999999999999\n"
     ]
    }
   ],
   "source": [
    "#Von Nuemann Entropies can indicate how mixed a state is. Qiskit makes calculating the entropy easy!\n",
    "\n",
    "print(entropy(rho_01_in),entropy(rho_01_out))\n",
    "\n",
    "# If the entropy is zero then the state is pure. Entropy > 0 indicates a mixed state. "
   ]
  },
  {
   "cell_type": "code",
   "execution_count": 16,
   "id": "d71e05a9",
   "metadata": {},
   "outputs": [
    {
     "name": "stdout",
     "output_type": "stream",
     "text": [
      "(1.0000000000000004+0j)\n"
     ]
    }
   ],
   "source": [
    "# Another check for purity is from the definition of purity Trace(rho^2) = 1 \n",
    "rho_01_in_squared = np.matmul(rho_01_in,rho_01_in)\n",
    "purity1=np.matrix.trace(rho_01_in_squared)\n",
    "print(purity1)"
   ]
  },
  {
   "cell_type": "code",
   "execution_count": 19,
   "id": "a1f35ec4",
   "metadata": {},
   "outputs": [
    {
     "name": "stdout",
     "output_type": "stream",
     "text": [
      "1.9999999999999996 0.0\n",
      "0.0 1.9999999999999996\n"
     ]
    }
   ],
   "source": [
    "# Using Quantum Mutual information (QMI) we can explore the entanglement as it passes from qubits 0 and 1 to qubits 0 and 3. \n",
    "# Remember, a QMI value of 2 means maximal entanglement, whereas a QMI of 0 means no entanglement. \n",
    "\n",
    "print(mutual_information(rho_01_in),mutual_information(rho_01_out))\n",
    "print(mutual_information(rho_03_in),mutual_information(rho_03_out))\n",
    "\n"
   ]
  },
  {
   "cell_type": "code",
   "execution_count": 22,
   "id": "d574768e",
   "metadata": {},
   "outputs": [
    {
     "data": {
      "text/plain": [
       "0.9999999999999998"
      ]
     },
     "execution_count": 22,
     "metadata": {},
     "output_type": "execute_result"
    }
   ],
   "source": [
    "# Coherent Information through the quantum channel. A value of 1 means perfect quantum communication. A value of zero\n",
    "# indicates your channel is entanglement breaking. \n",
    "entropy(rho_0_out) - entropy(rho_03_out)"
   ]
  },
  {
   "cell_type": "markdown",
   "id": "b0b6a041",
   "metadata": {},
   "source": [
    "# "
   ]
  }
 ],
 "metadata": {
  "kernelspec": {
   "display_name": "Python 3 (ipykernel)",
   "language": "python",
   "name": "python3"
  },
  "language_info": {
   "codemirror_mode": {
    "name": "ipython",
    "version": 3
   },
   "file_extension": ".py",
   "mimetype": "text/x-python",
   "name": "python",
   "nbconvert_exporter": "python",
   "pygments_lexer": "ipython3",
   "version": "3.9.12"
  }
 },
 "nbformat": 4,
 "nbformat_minor": 5
}
