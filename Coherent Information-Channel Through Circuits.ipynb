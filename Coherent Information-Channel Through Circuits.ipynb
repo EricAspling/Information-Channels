{
 "cells": [
  {
   "cell_type": "code",
   "execution_count": 2,
   "id": "6e82cb98",
   "metadata": {},
   "outputs": [],
   "source": [
    "import numpy as np\n",
    "from qiskit import*\n",
    "import math as m\n",
    "from scipy import linalg as la\n",
    "import matplotlib.pyplot as plt\n",
    "import pylatexenc\n",
    "from qiskit.quantum_info import*\n",
    "from qiskit.visualization import*\n",
    "from itertools import chain\n",
    "%matplotlib inline\n"
   ]
  },
  {
   "cell_type": "code",
   "execution_count": 3,
   "id": "ddc3db18",
   "metadata": {},
   "outputs": [],
   "source": [
    "#we need this block to run the circuit\n",
    "sim = Aer.get_backend('aer_simulator')\n"
   ]
  },
  {
   "cell_type": "code",
   "execution_count": 4,
   "id": "6af0ed83",
   "metadata": {},
   "outputs": [
    {
     "name": "stdout",
     "output_type": "stream",
     "text": [
      "0.7071067811865476 0\n"
     ]
    }
   ],
   "source": [
    "x1 = float(m.sqrt(1/2))\n",
    "x2 = 0;\n",
    "c_1 = 1/(np.sqrt(2))\n",
    "c_2 = c_1*1j\n",
    "print(x1, x2)"
   ]
  },
  {
   "cell_type": "code",
   "execution_count": 20,
   "id": "ed3f544f",
   "metadata": {},
   "outputs": [
    {
     "name": "stdout",
     "output_type": "stream",
     "text": [
      "[0.         0.70710678 0.70710678 0.         0.         0.\n",
      " 0.         0.         0.         0.         0.         0.\n",
      " 0.         0.         0.         0.        ]\n"
     ]
    }
   ],
   "source": [
    "IS1 =[0,x1,x1,0,0,0,0,0]\n",
    "\n",
    "IS2 = [1,0]\n",
    "\n",
    "IS = np.kron(IS2,IS1)\n",
    "\n",
    "print(IS)"
   ]
  },
  {
   "cell_type": "code",
   "execution_count": 21,
   "id": "03bbf36f",
   "metadata": {
    "scrolled": true
   },
   "outputs": [],
   "source": [
    "# #Drawing the quantum circuit\n",
    "# qr_1 = QuantumRegister(4)\n",
    "# qc_test = QuantumCircuit(qr_1)\n",
    "# initial_state=[x1,0,0,x1,0,0,0,0,0,0,0,0,0,0,0,0]\n",
    "# qc_test.initialize(initial_state,[0,1,2,3])\n",
    "# v1 = qc_test.save_statevector(label='v1')\n",
    "# qc_test.x(1)\n",
    "# qc_test.x(2)\n",
    "# v15 = qc_test.save_statevector(label='v1.5')\n",
    "# qc_test.x(2)\n",
    "# qc_test.x(3)\n",
    "\n",
    "# v2 = qc_test.save_statevector(label='v2')\n",
    "# qc_testj = assemble(qc_test)\n",
    "# result = sim.run(qc_testj).result()\n",
    "# qc_test.draw(output='mpl')"
   ]
  },
  {
   "cell_type": "code",
   "execution_count": 22,
   "id": "05015367",
   "metadata": {},
   "outputs": [
    {
     "data": {
      "image/png": "[encoded data removed]",
      "text/plain": [
       "<Figure size 822.123x264.88 with 1 Axes>"
      ]
     },
     "execution_count": 22,
     "metadata": {},
     "output_type": "execute_result"
    }
   ],
   "source": [
    "#Drawing the quantum circuit\n",
    "qr_1 = QuantumRegister(4)\n",
    "qc_test = QuantumCircuit(qr_1)\n",
    "initial_state=IS\n",
    "qc_test.initialize(initial_state,[0,1,2,3])\n",
    "v1 = qc_test.save_statevector(label='v1')\n",
    "qc_test.cx(1,2)\n",
    "qc_test.cx(2,1)\n",
    "v15 = qc_test.save_statevector(label='v15')\n",
    "qc_test.cx(2,3)\n",
    "qc_test.cx(3,2)\n",
    "\n",
    "v2 = qc_test.save_statevector(label='v2')\n",
    "qc_testj = assemble(qc_test)\n",
    "result = sim.run(qc_testj).result()\n",
    "qc_test.draw(output='mpl')"
   ]
  },
  {
   "cell_type": "code",
   "execution_count": 23,
   "id": "d1fd1fbb",
   "metadata": {},
   "outputs": [],
   "source": [
    "# #Drawing the quantum circuit\n",
    "# qr_1 = QuantumRegister(4)\n",
    "# qc_test = QuantumCircuit(qr_1)\n",
    "# initial_state=[x1,0,0,x1,0,0,0,0,0,0,0,0,0,0,0,0]\n",
    "# qc_test.initialize(initial_state,[0,1,2,3])\n",
    "# v1 = qc_test.save_statevector(label='v1')\n",
    "# qc_test.swap(1,2)\n",
    "# qc_test.swap(2,3)\n",
    "\n",
    "\n",
    "# v2 = qc_test.save_statevector(label='v2')\n",
    "# qc_testj = assemble(qc_test)\n",
    "# result = sim.run(qc_testj).result()\n",
    "# qc_test.draw(output='mpl')\n"
   ]
  },
  {
   "cell_type": "code",
   "execution_count": 24,
   "id": "aa2fe798",
   "metadata": {},
   "outputs": [
    {
     "data": {
      "text/latex": [
       "$$\\frac{\\sqrt{2}}{2} |0001\\rangle+\\frac{\\sqrt{2}}{2} |0010\\rangle$$"
      ],
      "text/plain": [
       "<IPython.core.display.Latex object>"
      ]
     },
     "metadata": {},
     "output_type": "display_data"
    },
    {
     "data": {
      "text/latex": [
       "$$\\frac{\\sqrt{2}}{2} |0001\\rangle+\\frac{\\sqrt{2}}{2} |1000\\rangle$$"
      ],
      "text/plain": [
       "<IPython.core.display.Latex object>"
      ]
     },
     "metadata": {},
     "output_type": "display_data"
    }
   ],
   "source": [
    "# Display the output state vector\n",
    "psi_test_in = result.data(0)['v1']\n",
    "psi_test_out = result.data(0)['v2']\n",
    "\n",
    "\n",
    "display(psi_test_in.draw('latex'),\n",
    "        psi_test_out.draw('latex'))"
   ]
  },
  {
   "cell_type": "code",
   "execution_count": 25,
   "id": "c4e618c1",
   "metadata": {},
   "outputs": [
    {
     "data": {
      "text/latex": [
       "$$\n",
       "\n",
       "\\begin{bmatrix}\n",
       "0 & 0 & 0 & 0 & \\cdots & 0 & 0 & 0  \\\\\n",
       " 0 & \\tfrac{1}{2} & 0 & 0 & \\cdots & 0 & 0 & 0  \\\\\n",
       " 0 & 0 & 0 & 0 & \\cdots & 0 & 0 & 0  \\\\\n",
       " 0 & 0 & 0 & 0 & \\cdots & 0 & 0 & 0  \\\\\n",
       " \\vdots & \\vdots & \\vdots & \\vdots & \\ddots & \\vdots & \\vdots & \\vdots \\\\\n",
       " 0 & 0 & 0 & 0 & \\cdots & 0 & 0 & 0  \\\\\n",
       " 0 & 0 & 0 & 0 & \\cdots & 0 & 0 & 0  \\\\\n",
       " 0 & 0 & 0 & 0 & \\cdots & 0 & 0 & 0  \\\\\n",
       " \\end{bmatrix}\n",
       "$$"
      ],
      "text/plain": [
       "<IPython.core.display.Latex object>"
      ]
     },
     "execution_count": 25,
     "metadata": {},
     "output_type": "execute_result"
    }
   ],
   "source": [
    "#Define Density Matrix for qc_test\n",
    "rho_in = DensityMatrix(psi_test_in)\n",
    "rho_out = DensityMatrix(psi_test_out)\n",
    "\n",
    "\n",
    "rho_in.draw('latex')\n",
    "rho_out.draw('latex')"
   ]
  },
  {
   "cell_type": "code",
   "execution_count": 26,
   "id": "2fc7d11f",
   "metadata": {},
   "outputs": [],
   "source": [
    "#print(entropy(D_A), entropy(D_B), entropy(D_C), entropy(D_AB), entropy(D_AC), entropy(D_BC))"
   ]
  },
  {
   "cell_type": "code",
   "execution_count": 27,
   "id": "9b4d4019",
   "metadata": {},
   "outputs": [
    {
     "data": {
      "text/latex": [
       "$$\n",
       " \\rho_{12\\_in} = \n",
       "\\begin{bmatrix}\n",
       "0 & 0 & 0 & 0  \\\\\n",
       " 0 & \\tfrac{1}{2} & \\tfrac{1}{2} & 0  \\\\\n",
       " 0 & \\tfrac{1}{2} & \\tfrac{1}{2} & 0  \\\\\n",
       " 0 & 0 & 0 & 0  \\\\\n",
       " \\end{bmatrix}\n",
       "$$"
      ],
      "text/plain": [
       "<IPython.core.display.Latex object>"
      ]
     },
     "metadata": {},
     "output_type": "display_data"
    },
    {
     "data": {
      "text/latex": [
       "$$\n",
       " \\rho_{12\\_out} = \n",
       "\\begin{bmatrix}\n",
       "\\tfrac{1}{2} & 0 & 0 & 0  \\\\\n",
       " 0 & \\tfrac{1}{2} & 0 & 0  \\\\\n",
       " 0 & 0 & 0 & 0  \\\\\n",
       " 0 & 0 & 0 & 0  \\\\\n",
       " \\end{bmatrix}\n",
       "$$"
      ],
      "text/plain": [
       "<IPython.core.display.Latex object>"
      ]
     },
     "metadata": {},
     "output_type": "display_data"
    },
    {
     "data": {
      "text/latex": [
       "$$\n",
       " \\rho_{14\\_in} = \n",
       "\\begin{bmatrix}\n",
       "\\tfrac{1}{2} & 0 & 0 & 0  \\\\\n",
       " 0 & \\tfrac{1}{2} & 0 & 0  \\\\\n",
       " 0 & 0 & 0 & 0  \\\\\n",
       " 0 & 0 & 0 & 0  \\\\\n",
       " \\end{bmatrix}\n",
       "$$"
      ],
      "text/plain": [
       "<IPython.core.display.Latex object>"
      ]
     },
     "metadata": {},
     "output_type": "display_data"
    },
    {
     "data": {
      "text/latex": [
       "$$\n",
       " \\rho_{14\\_out} = \n",
       "\\begin{bmatrix}\n",
       "0 & 0 & 0 & 0  \\\\\n",
       " 0 & \\tfrac{1}{2} & \\tfrac{1}{2} & 0  \\\\\n",
       " 0 & \\tfrac{1}{2} & \\tfrac{1}{2} & 0  \\\\\n",
       " 0 & 0 & 0 & 0  \\\\\n",
       " \\end{bmatrix}\n",
       "$$"
      ],
      "text/plain": [
       "<IPython.core.display.Latex object>"
      ]
     },
     "metadata": {},
     "output_type": "display_data"
    },
    {
     "data": {
      "text/latex": [
       "$$\n",
       " \\rho_{4\\_out} = \n",
       "\\begin{bmatrix}\n",
       "\\tfrac{1}{2} & 0  \\\\\n",
       " 0 & \\tfrac{1}{2}  \\\\\n",
       " \\end{bmatrix}\n",
       "$$"
      ],
      "text/plain": [
       "<IPython.core.display.Latex object>"
      ]
     },
     "metadata": {},
     "output_type": "display_data"
    },
    {
     "data": {
      "text/latex": [
       "$$\n",
       " \\rho_{234\\_out} = \n",
       "\\begin{bmatrix}\n",
       "\\tfrac{1}{2} & 0 & 0 & 0 & 0 & 0 & 0 & 0  \\\\\n",
       " 0 & 0 & 0 & 0 & 0 & 0 & 0 & 0  \\\\\n",
       " 0 & 0 & 0 & 0 & 0 & 0 & 0 & 0  \\\\\n",
       " 0 & 0 & 0 & 0 & 0 & 0 & 0 & 0  \\\\\n",
       " 0 & 0 & 0 & 0 & \\tfrac{1}{2} & 0 & 0 & 0  \\\\\n",
       " 0 & 0 & 0 & 0 & 0 & 0 & 0 & 0  \\\\\n",
       " 0 & 0 & 0 & 0 & 0 & 0 & 0 & 0  \\\\\n",
       " 0 & 0 & 0 & 0 & 0 & 0 & 0 & 0  \\\\\n",
       " \\end{bmatrix}\n",
       "$$"
      ],
      "text/plain": [
       "<IPython.core.display.Latex object>"
      ]
     },
     "metadata": {},
     "output_type": "display_data"
    }
   ],
   "source": [
    "#Density Matrices tracing over qubits 2,3 for both the initial state and the output. \n",
    "rho_12_in = partial_trace(rho_in,[2,3])\n",
    "rho_12_out = partial_trace(rho_out,[2,3])\n",
    "rho_13_in = partial_trace(rho_in,[1,3])\n",
    "rho_13_out = partial_trace(rho_out,[1,3])\n",
    "rho_14_in = partial_trace(rho_in,[1,2])\n",
    "rho_14_out = partial_trace(rho_out,[1,2])\n",
    "rho_34_in = partial_trace(rho_in,[0,1])\n",
    "rho_34_out = partial_trace(rho_out,[0,1])\n",
    "rho_24_out = partial_trace(rho_out,[0,2])\n",
    "rho_23_out = partial_trace(rho_out,[1,3])\n",
    "\n",
    "#out density matrix of the quantum channel\n",
    "rho_234_out = partial_trace(rho_out,[0])\n",
    "#output state read on qubit 4 from the quantum channel\n",
    "rho_1_in = partial_trace(rho_in,[1,2,3])\n",
    "rho_1_out = partial_trace(rho_out,[1,2,3])\n",
    "rho_2_in = partial_trace(rho_in,[0,2,3])\n",
    "rho_2_out = partial_trace(rho_out,[0,2,3])\n",
    "rho_3_in = partial_trace(rho_in,[0,1,3])\n",
    "rho_3_out = partial_trace(rho_out,[0,1,3])\n",
    "rho_4_in = partial_trace(rho_in,[0,1,2])\n",
    "rho_4_out = partial_trace(rho_out,[0,1,2])\n",
    "\n",
    "display(rho_12_in.draw('latex', prefix=\" \\\\rho_{12\\_in} = \"),\n",
    "        rho_12_out.draw('latex', prefix=\" \\\\rho_{12\\_out} = \"),\n",
    "        rho_14_in.draw('latex', prefix=\" \\\\rho_{14\\_in} = \"),\n",
    "        rho_14_out.draw('latex', prefix=\" \\\\rho_{14\\_out} = \"),\n",
    "        rho_4_out.draw('latex', prefix=\" \\\\rho_{4\\_out} = \"),\n",
    "        rho_234_out.draw('latex', prefix=\" \\\\rho_{234\\_out} = \"))"
   ]
  },
  {
   "cell_type": "code",
   "execution_count": 13,
   "id": "a9d0875d",
   "metadata": {},
   "outputs": [
    {
     "name": "stdout",
     "output_type": "stream",
     "text": [
      "0.0 0.9999999999999999 0.0 0.9999999999999999 0.0\n"
     ]
    }
   ],
   "source": [
    "#Entropies of our reduced density matrices. \n",
    "print(entropy(rho_12_in),entropy(rho_12_out),entropy(rho_14_in),entropy(rho_14_out), entropy(rho_23_out))"
   ]
  },
  {
   "cell_type": "code",
   "execution_count": 14,
   "id": "d71e05a9",
   "metadata": {},
   "outputs": [
    {
     "name": "stdout",
     "output_type": "stream",
     "text": [
      "(1.0000000000000004+0j)\n"
     ]
    }
   ],
   "source": [
    "#Check for Purtity\n",
    "rho_12_in_squared = np.matmul(rho_12_in,rho_12_in)\n",
    "purity1=np.matrix.trace(rho_12_in_squared)\n",
    "print(purity1)"
   ]
  },
  {
   "cell_type": "code",
   "execution_count": 15,
   "id": "a1f35ec4",
   "metadata": {},
   "outputs": [
    {
     "name": "stdout",
     "output_type": "stream",
     "text": [
      "0.0 0.0\n",
      "0.0 0.0\n",
      "0.0 0.0\n",
      "0.0 0.0\n"
     ]
    }
   ],
   "source": [
    "#Mutual Information of qubit 1 and 4 for the initial state and for the output. MI of 0 has no entanglement and MI of 2 is\n",
    "#maximally entangled. \n",
    "print(mutual_information(rho_12_in),mutual_information(rho_12_out))\n",
    "print(mutual_information(rho_13_in),mutual_information(rho_13_out))\n",
    "print(mutual_information(rho_14_in),mutual_information(rho_14_out))\n",
    "print(mutual_information(rho_34_in),mutual_information(rho_34_out))"
   ]
  },
  {
   "cell_type": "code",
   "execution_count": 16,
   "id": "d574768e",
   "metadata": {},
   "outputs": [
    {
     "data": {
      "text/plain": [
       "-0.9999999999999999"
      ]
     },
     "execution_count": 16,
     "metadata": {},
     "output_type": "execute_result"
    }
   ],
   "source": [
    "#coherent information through the quantum channel (the bottom three qubits.)\n",
    "entropy(rho_1_in)-entropy(rho_14_out)"
   ]
  },
  {
   "cell_type": "code",
   "execution_count": 17,
   "id": "70d8f0f6",
   "metadata": {},
   "outputs": [
    {
     "name": "stdout",
     "output_type": "stream",
     "text": [
      "0.0 0.0 1.6017132519074586e-16 0.0\n",
      "0.0 0.9999999999999999 0.0 0.9999999999999999\n"
     ]
    }
   ],
   "source": [
    "#Entanglement is created through this circuit on q_3 and q_4\n",
    "\n",
    "print(entropy(rho_1_in),entropy(rho_2_in),entropy(rho_3_in),entropy(rho_4_in))\n",
    "print(entropy(rho_1_out),entropy(rho_2_out),entropy(rho_3_out),entropy(rho_4_out))"
   ]
  },
  {
   "cell_type": "code",
   "execution_count": 18,
   "id": "a35c4e00",
   "metadata": {},
   "outputs": [
    {
     "data": {
      "text/plain": [
       "0.0"
      ]
     },
     "execution_count": 18,
     "metadata": {},
     "output_type": "execute_result"
    }
   ],
   "source": [
    "mutual_information(rho_23_out)"
   ]
  },
  {
   "cell_type": "code",
   "execution_count": 19,
   "id": "ddb65693",
   "metadata": {},
   "outputs": [
    {
     "data": {
      "text/plain": [
       "0.0"
      ]
     },
     "execution_count": 19,
     "metadata": {},
     "output_type": "execute_result"
    }
   ],
   "source": [
    "entropy(rho_12_in)"
   ]
  },
  {
   "cell_type": "markdown",
   "id": "b0b6a041",
   "metadata": {},
   "source": [
    "# "
   ]
  }
 ],
 "metadata": {
  "kernelspec": {
   "display_name": "Python 3 (ipykernel)",
   "language": "python",
   "name": "python3"
  },
  "language_info": {
   "codemirror_mode": {
    "name": "ipython",
    "version": 3
   },
   "file_extension": ".py",
   "mimetype": "text/x-python",
   "name": "python",
   "nbconvert_exporter": "python",
   "pygments_lexer": "ipython3",
   "version": "3.9.12"
  }
 },
 "nbformat": 4,
 "nbformat_minor": 5
}
