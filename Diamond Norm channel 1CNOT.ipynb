{
 "cells": [
  {
   "cell_type": "code",
   "execution_count": 118,
   "id": "7807279d",
   "metadata": {},
   "outputs": [],
   "source": [
    "import numpy as np\n",
    "from qiskit import*\n",
    "import math as m\n",
    "from scipy import linalg as la\n",
    "import matplotlib.pyplot as plt\n",
    "import pylatexenc\n",
    "from qiskit.quantum_info import*\n",
    "from qiskit.visualization import*\n",
    "from itertools import chain\n",
    "%matplotlib inline\n",
    "\n",
    "#we need this block to run the circuit\n",
    "sim = Aer.get_backend('aer_simulator')"
   ]
  },
  {
   "cell_type": "code",
   "execution_count": 631,
   "id": "59da8a7a",
   "metadata": {},
   "outputs": [
    {
     "name": "stdout",
     "output_type": "stream",
     "text": [
      "0.7071067811865475 0.7071067811865475j\n"
     ]
    }
   ],
   "source": [
    "x1 = 1/np.sqrt(2)\n",
    "x2 = 1j *1/np.sqrt(2);\n",
    "print(x1, x2)\n",
    "# x1 = 1/2\n",
    "# x2 = 1j *1/2;\n",
    "# print(x1, x2)"
   ]
  },
  {
   "cell_type": "code",
   "execution_count": 660,
   "id": "9e6c35c6",
   "metadata": {},
   "outputs": [
    {
     "data": {
      "image/png": "[encoded data removed]",
      "text/plain": [
       "<Figure size 592.819x200.667 with 1 Axes>"
      ]
     },
     "execution_count": 660,
     "metadata": {},
     "output_type": "execute_result"
    }
   ],
   "source": [
    "#Drawing the quantum circuit\n",
    "# qr_1 = QuantumRegister(4)\n",
    "# qc_test = QuantumCircuit(qr_1)\n",
    "# initial_state=[0,x1,x1,0,0,0,0,0,0,x2,x2,0,0,0,0,0]\n",
    "# qc_test.initialize(initial_state,[0,1,2,3])\n",
    "# v1 = qc_test.save_statevector(label='v1')\n",
    "# # qc_test.h(1)\n",
    "\n",
    "# qc_test.cx(1,2)\n",
    "# qc_test.cx(2,3)\n",
    "\n",
    "\n",
    "#Drawing the quantum circuit\n",
    "# qr_1 = QuantumRegister(3)\n",
    "# qc_test = QuantumCircuit(qr_1)\n",
    "# initial_state=[x1,x1,0,0,0,0,0,0]\n",
    "# qc_test.initialize(initial_state,[0,1,2])\n",
    "# v1 = qc_test.save_statevector(label='v1')\n",
    "\n",
    "\n",
    "# qc_test.cx(0,1)\n",
    "# qc_test.cx(1,2)\n",
    "\n",
    "# #Drawing the quantum circuit\n",
    "qr_1 = QuantumRegister(2)\n",
    "qc_test = QuantumCircuit(qr_1)\n",
    "initial_state=[x1,x1,0,0]\n",
    "qc_test.initialize(initial_state,[0,1])\n",
    "v1 = qc_test.save_statevector(label='v1')\n",
    "\n",
    "\n",
    "qc_test.cx(0,1)\n",
    "# qc_test.cx(1,2)\n",
    "\n",
    "\n",
    "\n",
    "v2 = qc_test.save_statevector(label='v2')\n",
    "# result = sim.run(qc_testj).result()\n",
    "result = execute(qc_test, backend = sim).result()\n",
    "qc_test.draw(output='mpl')"
   ]
  },
  {
   "cell_type": "code",
   "execution_count": 661,
   "id": "935872d0",
   "metadata": {},
   "outputs": [
    {
     "data": {
      "text/latex": [
       "$$\\frac{\\sqrt{2}}{2} |00\\rangle+\\frac{\\sqrt{2}}{2} |01\\rangle$$"
      ],
      "text/plain": [
       "<IPython.core.display.Latex object>"
      ]
     },
     "metadata": {},
     "output_type": "display_data"
    },
    {
     "data": {
      "text/latex": [
       "$$\\frac{\\sqrt{2}}{2} |00\\rangle+\\frac{\\sqrt{2}}{2} |11\\rangle$$"
      ],
      "text/plain": [
       "<IPython.core.display.Latex object>"
      ]
     },
     "metadata": {},
     "output_type": "display_data"
    }
   ],
   "source": [
    "# Display the output state vector\n",
    "psi_test_in = result.data(0)['v1']\n",
    "psi_test_out = result.data(0)['v2']\n",
    "\n",
    "\n",
    "display(psi_test_in.draw('latex'),\n",
    "        psi_test_out.draw('latex'))"
   ]
  },
  {
   "cell_type": "code",
   "execution_count": 662,
   "id": "00fdca08",
   "metadata": {},
   "outputs": [
    {
     "data": {
      "text/latex": [
       "$$\n",
       "\n",
       "\\begin{bmatrix}\n",
       "\\frac{1}{2} & \\frac{1}{2} & 0 & 0  \\\\\n",
       " \\frac{1}{2} & \\frac{1}{2} & 0 & 0  \\\\\n",
       " 0 & 0 & 0 & 0  \\\\\n",
       " 0 & 0 & 0 & 0  \\\\\n",
       " \\end{bmatrix}\n",
       "$$"
      ],
      "text/plain": [
       "<IPython.core.display.Latex object>"
      ]
     },
     "metadata": {},
     "output_type": "display_data"
    },
    {
     "data": {
      "text/latex": [
       "$$\n",
       "\n",
       "\\begin{bmatrix}\n",
       "\\frac{1}{2} & 0 & 0 & \\frac{1}{2}  \\\\\n",
       " 0 & 0 & 0 & 0  \\\\\n",
       " 0 & 0 & 0 & 0  \\\\\n",
       " \\frac{1}{2} & 0 & 0 & \\frac{1}{2}  \\\\\n",
       " \\end{bmatrix}\n",
       "$$"
      ],
      "text/plain": [
       "<IPython.core.display.Latex object>"
      ]
     },
     "metadata": {},
     "output_type": "display_data"
    }
   ],
   "source": [
    "#Define Density Matrix for qc_test\n",
    "rho_in = DensityMatrix(psi_test_in)\n",
    "rho_out = DensityMatrix(psi_test_out)\n",
    "\n",
    "\n",
    "display(rho_in.draw('latex'),\n",
    "        rho_out.draw('latex'))"
   ]
  },
  {
   "cell_type": "code",
   "execution_count": 663,
   "id": "0b5a93e7",
   "metadata": {},
   "outputs": [
    {
     "data": {
      "text/latex": [
       "$$\n",
       "\\mathrm{ideal} \\rho_{CB} = \n",
       "\\begin{bmatrix}\n",
       "\\frac{1}{2} & 0  \\\\\n",
       " 0 & \\frac{1}{2}  \\\\\n",
       " \\end{bmatrix}\n",
       "$$"
      ],
      "text/plain": [
       "<IPython.core.display.Latex object>"
      ]
     },
     "execution_count": 663,
     "metadata": {},
     "output_type": "execute_result"
    }
   ],
   "source": [
    "ideal_rho_CB= partial_trace(rho_out,[1]) \n",
    "ideal_rho_CB.draw('latex',prefix=\"\\mathrm{ideal} \\\\rho_{CB} = \")"
   ]
  },
  {
   "cell_type": "code",
   "execution_count": 649,
   "id": "49c58d2e",
   "metadata": {},
   "outputs": [],
   "source": [
    "#Listing out our parameters\n",
    "sigma = 1\n",
    "c_1 = 1/(np.sqrt(2))\n",
    "c_2 = c_1*1j\n",
    "C2 = 1/(8*(np.pi**2)*sigma**4)\n",
    "val1 = [-1,1]\n",
    "val2 = [0]\n",
    "def LPI(lambda_phi):\n",
    "    lambda_pi = np.pi/(np.multiply(4,lambda_phi))*(2*np.pi)**(3/2)*sigma**3\n",
    "    return lambda_pi\n",
    "\n",
    "# def LPI(lambda_phi):\n",
    "#     lambda_pi = 1/(np.multiply(1,lambda_phi))\n",
    "#     return lambda_pi\n",
    "    \n",
    "lambda_phi = [i for i in range(1,106)]\n",
    "lambda_pi = [LPI(lambda_phi)]\n",
    "\n",
    "def C(lambda_pi,lambda_phi):\n",
    "    C = -1j*np.multiply(lambda_phi,lambda_pi)/(2*np.sqrt((2*np.pi)**3)*sigma**3)\n",
    "    return C\n",
    "# def C(lambda_pi,lambda_phi):\n",
    "#     C = 1\n",
    "#     return C\n",
    "def Wz(zl,zm,lambda_phi):\n",
    "    W_lm = C2*(2*np.multiply(zl,zm)*(sigma**2)*np.multiply(lambda_phi,lambda_phi))\n",
    "    return W_lm\n",
    "\n",
    "def Wx(xl,xm,lambda_pi):\n",
    "    W_lm = C2*(4*np.multiply(xl,xm)*np.multiply(lambda_pi,lambda_pi))\n",
    "    return W_lm\n",
    "\n",
    "def W2(xl,xm,zl,zm,lambda_pi,lambda_phi):\n",
    "    W_lm = C2*(4*np.multiply(xl,xm)*np.multiply(lambda_pi,lambda_pi)+2*np.multiply(zl,zm)*(sigma**2)*np.multiply(lambda_phi,lambda_phi)+1j*np.sqrt(2*np.pi)*sigma*np.multiply(lambda_pi,lambda_phi)*(np.multiply(xm,zl)-np.multiply(xl,zm)))\n",
    "    return W_lm\n",
    "\n",
    "\n",
    "def W1(lambda_phi):\n",
    "    W_lm = C2*2*(sigma**2)*np.multiply(lambda_phi,lambda_phi)\n",
    "    return W_lm\n",
    "#this block is to Establish the specific projection matrices\n",
    "\n",
    "def Projection_z(x):\n",
    "    proj_z = [x,0] if x==1 else [0,-x]\n",
    "    return proj_z\n",
    "\n",
    "def Projection_y(x):\n",
    "    proj_y = [c_1*x,c_2*x] if x==1 else [-c_1*x,c_2*x]\n",
    "    return proj_y\n",
    "\n",
    "# def Projection_y(x):\n",
    "#     proj_y = [x,0] if x==1 else [0,-x]\n",
    "#     return proj_y\n",
    "\n",
    "\n",
    "def Projection_x(x):\n",
    "    proj_x = [c_1*x,c_1*x] if x==1 else [-c_1*x,c_1*x]\n",
    "    return proj_x\n",
    "\n",
    "def Pauli_x(x):\n",
    "    pauli_x = np.outer(Projection_x(x),Projection_x(x))-np.outer(Projection_x(-x),Projection_x(-x))\n",
    "    return pauli_x\n",
    "\n",
    "#Here we will define the non ideal channel\n",
    "\n",
    "# def rho_AB(lpi,lphi):\n",
    "#     rho_AB = [1/2*np.kron((np.exp(-1*(W2(-x1,0,z1,0,lpi,lphi)+W2(-x1,0,0,z2,lpi,lphi)+W2(0,-x2,0,z2,lpi,lphi)+W2(0,-x2,z1,0,lpi,lphi)))\\\n",
    "#                                *np.exp(-1/2*(W2(-x1,-x1,z1,z1,lpi,lphi)+ W2(-x2,-x2,z2,z2,lpi,lphi))))\\\n",
    "#                                    ,(np.kron(np.outer(np.outer(Projection_z(z2),Projection_z(z2))@ Projection_z(k1), np.conj(Projection_z(j1)).T @ np.outer(Projection_x(x1),Projection_x(x1)))\\\n",
    "#                                     ,np.outer(np.outer(Projection_x(x2),Projection_x(x2)) @ Projection_y(1), np.conj(Projection_y(1)).T @ np.outer(Projection_z(z1),Projection_x(z1))))))\\\n",
    "#                                    for x1 in val1 for z1 in val1 for x2 in val1 for z2 in val1 for j1 in val1 for k1 in val1]\n",
    "#     return rho_AB\n",
    "def rho_AB(lpi,lphi):\n",
    "    rho_AB = [1/2*np.kron((np.exp(x1*z1*C(lpi,lphi))*np.exp(-x2*z2*C(lpi,lphi))*np.exp(x3*z3*C(lpi,lphi))*np.exp(-x4*z4*C(lpi,lphi))\\\n",
    "           *np.exp(-1*(W2(x1,x2,z1,z2,lpi,lphi)+W2(x1,x3,z1,z3,lpi,lphi)+W2(x1,x4,z1,z4,lpi,lphi)+W2(x2,x3,z2,z3,lpi,lphi)+W2(x2,x4,z2,z4,lpi,lphi)+W2(x3,x4,z3,z4,lpi,lphi)))\\\n",
    "                               *np.exp(-1/2*(W2(x1,x1,z1,z1,lpi,lphi)+W2(x2,x2,z2,z2,lpi,lphi)+W2(x3,x3,z3,z3,lpi,lphi)+W2(x4,x4,z4,z4,lpi,lphi))))\\\n",
    "                                   ,(np.kron(np.outer(np.outer(Projection_z(-z1),Projection_z(-z1)) @ (Projection_z(k1)), Projection_z(j1) @ np.outer(Projection_z(z4),Projection_z(z4)))\\\n",
    "                                    ,(np.outer((np.outer(Projection_x(-x3),Projection_x(-x3)) @ Projection_y(1)), np.conj(Projection_y(1)).T @ np.outer(Projection_x(x2),Projection_x(x2)))))))\\\n",
    "                                   for x1 in val2 for z1 in val1 for x2 in val1 for z2 in val2 for x3 in val1 for z3 in val2 for x4 in val2 for z4 in val1 for j1 in val1 for k1 in val1]\n",
    "    return rho_AB\n",
    "\n",
    "# def rho_AB(lphi):\n",
    "#     rho_AB = [1/2*np.kron(np.exp(-1/2*))\\\n",
    "#                                    ,np.kron(np.outer(np.outer(Projection_z(z3),Projection_z(z3)) @ Projection_y(1), np.conj(Projection_y(1)).T @ np.outer(Projection_z(-z2),Projection_z(-z2)))\\\n",
    "#                                      ,np.outer(np.outer(Projection_z(-z4),Projection_z(-z4))@ Projection_z(k1), np.conj(Projection_z(j1)).T @ np.outer(Projection_z(z1),Projection_z(z1))))\\\n",
    "#                                    for x1 in val2 for z1 in val1 for x2 in val2 for z2 in val1 for x3 in val2 for z3 in val1 for x4 in val2 for z4 in val1 for j1 in val1 for k1 in val1]\n",
    "#     return rho_AB\n",
    "\n",
    "rho_AB_int = [1/2*(np.kron(np.outer(Projection_y(1), np.conj(Projection_y(1)).T), np.outer(Projection_z(j1), Projection_z(k1)))) for j1 in val1 for k1 in val1]\n",
    "\n",
    "rho_AB_int1 = [1/2*(np.kron(np.outer(np.outer(Projection_z(x3),Projection_z(x3)) @ Projection_y(1), np.conj(Projection_y(1)).T @ np.outer(Projection_z(z2),Projection_z(z2)))\\\n",
    "                                     ,np.outer(np.outer(Projection_z(z4),Projection_z(z4))@ Projection_z(k1), np.conj(Projection_z(j1)).T @ np.outer(Projection_z(x1),Projection_z(x1)))))\\\n",
    "                                   for x1 in val1 for z2 in val1 for x3 in val1 for z4 in val1 for j1 in val1 for k1 in val1]\n",
    "\n",
    "# def rho_B(lpi,lphi):\n",
    "#     rho_B = [1/2*np.kron((np.exp(x1*z1*C(lpi,lphi))*np.exp(-x2*z2*C(lpi,lphi))*np.exp(x3*z3*C(lpi,lphi))*np.exp(-x4*z4*C(lpi,lphi))\\\n",
    "#            *np.exp(-1*(W(x1,x2,z1,z2,lpi,lphi)+W(x1,x3,z1,z3,lpi,lphi)+W(x1,x4,z1,z4,lpi,lphi)+W(x2,x3,z2,z3,lpi,lphi)+W(x2,x4,z2,z4,lpi,lphi)+W(x3,x4,z3,z4,lpi,lphi)))\\\n",
    "#                                *np.exp(-1/2*(W(x1,x1,z1,z1,lpi,lphi)+W(x2,x2,z2,z2,lpi,lphi)+W(x3,x3,z3,z3,lpi,lphi)+W(x4,x4,z4,z4,lpi,lphi))))\\\n",
    "#                                    ,(np.kron((np.conj(Projection_z(j1)).T @ np.outer(Projection_z(-z1),Projection_z(-z1)) @ np.outer(Projection_x(-x1),Projection_x(-x1))@np.outer(Projection_x(x4),Projection_x(x4))@ np.outer(Projection_z(z4),Projection_z(z4)) @ Projection_z(j1))\\\n",
    "#                                     ,np.outer(np.outer(Projection_z(-z3),Projection_z(-z3))@ np.outer(Projection_x(-x3),Projection_x(-x3)) @ Projection_z(1), np.conj(Projection_z(1)).T @ np.outer(Projection_x(x2),Projection_x(x2)) @ np.outer(Projection_z(z2),Projection_z(z2))))))\\\n",
    "#                                       for x1 in val1 for z1 in val1 for x2 in val1 for z2 in val1 for x3 in val1 for z3 in val1 for x4 in val1 for z4 in val1 for j1 in val1]\n",
    "#     return rho_B"
   ]
  },
  {
   "cell_type": "code",
   "execution_count": 650,
   "metadata": {},
   "outputs": [
    {
     "name": "stdout",
     "output_type": "stream",
     "text": [
      "[array([[0, 0],\n",
      "       [0, 1]]), array([[1, 0],\n",
      "       [0, 0]])]\n",
      "DensityMatrix([[0.5+0.j , 0. -0.5j],\n",
      "               [0. +0.5j, 0.5+0.j ]],\n",
      "              dims=(2,))\n"
     ]
    }
   ],
   "source": [
    "print([np.outer(Projection_z(z3),Projection_z(z3)) for z3 in val1])\n",
    "print(DensityMatrix(sum([np.outer(np.outer(Projection_x(x3),(Projection_x(x3))) @ Projection_y(1), np.conj(Projection_y(1)).T @ np.outer(Projection_z(z2),Projection_z(z2))) for x3 in val1 for z2 in val1])))"
   ]
  },
  {
   "cell_type": "code",
   "execution_count": 651,
   "id": "cf20de6d",
   "metadata": {},
   "outputs": [
    {
     "data": {
      "text/latex": [
       "$$\n",
       "\n",
       "\\begin{bmatrix}\n",
       "\\frac{1}{4} & \\frac{1}{4} & - \\frac{i}{4} & - \\frac{i}{4}  \\\\\n",
       " \\frac{1}{4} & \\frac{1}{4} & - \\frac{i}{4} & - \\frac{i}{4}  \\\\\n",
       " \\frac{i}{4} & \\frac{i}{4} & \\frac{1}{4} & \\frac{1}{4}  \\\\\n",
       " \\frac{i}{4} & \\frac{i}{4} & \\frac{1}{4} & \\frac{1}{4}  \\\\\n",
       " \\end{bmatrix}\n",
       "$$"
      ],
      "text/plain": [
       "<IPython.core.display.Latex object>"
      ]
     },
     "metadata": {},
     "output_type": "display_data"
    },
    {
     "data": {
      "text/latex": [
       "$$\n",
       "\n",
       "\\begin{bmatrix}\n",
       "\\frac{1}{4} & \\frac{1}{4} & - \\frac{i}{4} & - \\frac{i}{4}  \\\\\n",
       " \\frac{1}{4} & \\frac{1}{4} & - \\frac{i}{4} & - \\frac{i}{4}  \\\\\n",
       " \\frac{i}{4} & \\frac{i}{4} & \\frac{1}{4} & \\frac{1}{4}  \\\\\n",
       " \\frac{i}{4} & \\frac{i}{4} & \\frac{1}{4} & \\frac{1}{4}  \\\\\n",
       " \\end{bmatrix}\n",
       "$$"
      ],
      "text/plain": [
       "<IPython.core.display.Latex object>"
      ]
     },
     "metadata": {},
     "output_type": "display_data"
    },
    {
     "data": {
      "text/latex": [
       "$$\n",
       "\n",
       "\\begin{bmatrix}\n",
       "0 & 1  \\\\\n",
       " 1 & 0  \\\\\n",
       " \\end{bmatrix}\n",
       "$$"
      ],
      "text/plain": [
       "<IPython.core.display.Latex object>"
      ]
     },
     "metadata": {},
     "output_type": "display_data"
    }
   ],
   "source": [
    "# ListNumber = 107\n",
    "# rho_CB_List = [rho_CB(LPI(i),i) for i in range (ListNumber-1)]\n",
    "# Density_List_CB = [DensityMatrix(sum(rho_CB_List[i])) for i in range(ListNumber-1)]\n",
    "\n",
    "ListNumber = 107\n",
    "rho_AB_List = [rho_AB(LPI(i),i) for i in range (1,ListNumber)]\n",
    "Density_List_AB = [DensityMatrix(sum(rho_AB_List[i])) for i in range(ListNumber-1)]\n",
    "Density_List_AB_int = DensityMatrix(sum(rho_AB_int))\n",
    "Density_List_AB_int1 = DensityMatrix(sum(rho_AB_int1))\n",
    "Density_Pauli_x = DensityMatrix(Pauli_x(1))\n",
    "\n",
    "\n",
    "display(Density_List_AB_int.draw('latex'),\n",
    "        Density_List_AB_int1.draw('latex'),\n",
    "        Density_Pauli_x.draw('latex'))"
   ]
  },
  {
   "cell_type": "code",
   "execution_count": 652,
   "metadata": {},
   "outputs": [],
   "source": [
    "# rho_CB_List_test = rho_CB(0.005) \n",
    "# Density_List_CB_test = DensityMatrix(sum(rho_CB_List_test))\n",
    "# Density_List_CB_test.draw('latex', prefix=\" \\\\rho_{CB} = \")\n",
    "# def W1(xl,xm,zl,zm,lambda_pi,lambda_phi):\n",
    "#     W_lm = C2*(4*np.multiply(xl,xm)*np.multiply(lambda_pi,lambda_pi)+2*np.multiply(zl,zm)*(sigma**2)*np.multiply(lambda_phi,lambda_phi)+1j*np.sqrt(2*np.pi)*sigma*np.multiply(lambda_pi,lambda_phi)*(np.multiply(xm,zl)-np.multiply(xl,zm)))\n",
    "#     return W_lm\n",
    "# print([(np.exp(-1*W(z1,z1,lphi)+W(z1,z3,lphi)+W(z1,z4,lphi)+W(z2,z3,lphi)+W(z2,z4,lphi)+W(z3,z4,lphi)))*np.exp(-1/2*(W(z1,z1,lphi)+W(z2,z2,lphi)+W(z3,z3,lphi)+W(z4,z4,lphi)))  for z1 in val1 for z2 in val1 for z3 in val1 for z4 in val1 for lphi in range(1,106)])\n",
    "# print([np.exp(-1*(W1(x1,x2,z1,z2,lpi,lphi)+W1(x1,x3,z1,z3,lpi,lphi)+W1(x1,x4,z1,z4,lpi,lphi)+W1(x2,x3,z2,z3,lpi,lphi)+W1(x2,x4,z2,z4,lpi,lphi)+W1(x3,x4,z3,z4,lpi,lphi)))\\\n",
    "#                                *np.exp(-1/2*(W1(x1,x1,z1,z1,lpi,lphi)+W1(x2,x2,z2,z2,lpi,lphi)+W1(x3,x3,z3,z3,lpi,lphi)+W1(x4,x4,z4,z4,lpi,lphi))) for x1 in val1 for z1 in val1 for x2 in val1 for z2 in val1 for x3 in val1 for z3 in val1 for x4 in val1 for z4 in val1 for lpi in range(1) for lphi in range(1,106)])"
   ]
  },
  {
   "cell_type": "code",
   "execution_count": 666,
   "id": "63f1261a",
   "metadata": {},
   "outputs": [
    {
     "data": {
      "text/latex": [
       "$$\n",
       " \\rho_{CB} = \n",
       "\\begin{bmatrix}\n",
       "0.2551845152 & 0 & 0.2041425554 & - 0.0042335207 i  \\\\\n",
       " 0 & 0.2448154848 & 0.0042335207 i & 0.2041425554  \\\\\n",
       " 0.2041425554 & - 0.0042335207 i & 0.2448154848 & 0  \\\\\n",
       " 0.0042335207 i & 0.2041425554 & 0 & 0.2551845152  \\\\\n",
       " \\end{bmatrix}\n",
       "$$"
      ],
      "text/plain": [
       "<IPython.core.display.Latex object>"
      ]
     },
     "execution_count": 666,
     "metadata": {},
     "output_type": "execute_result"
    }
   ],
   "source": [
    "Density_List_AB[1].draw('latex', prefix=\" \\\\rho_{CB} = \")"
   ]
  },
  {
   "cell_type": "code",
   "execution_count": 664,
   "id": "de6d1bbc",
   "metadata": {},
   "outputs": [],
   "source": [
    "#Now we find the Diamond norm as the coupling constant strength increases. \n",
    "\n",
    "Diamond_norm_List=[diamond_norm(Density_List_AB[i]-rho_out) for i in range(0,ListNumber-2)]"
   ]
  },
  {
   "cell_type": "code",
   "execution_count": 665,
   "id": "bc91958b",
   "metadata": {},
   "outputs": [
    {
     "data": {
      "image/png": "[encoded data removed]",
      "text/plain": [
       "<Figure size 640x480 with 1 Axes>"
      ]
     },
     "metadata": {},
     "output_type": "display_data"
    }
   ],
   "source": [
    "# plotting the points \n",
    "plt.plot(lambda_phi, Diamond_norm_List)\n",
    "  \n",
    "# naming the x axis\n",
    "plt.xlabel('J /\\u03C3')\n",
    "# naming the y axis\n",
    "plt.ylabel('Diamond Norm')\n",
    "  \n",
    "# giving a title to my graph\n",
    "plt.title('Diamond Norm')\n",
    "  \n",
    "# function to show the plot\n",
    "plt.savefig('UDW_Channel_Capacity_Diamond_Norm.pdf')\n"
   ]
  },
  {
   "cell_type": "code",
   "execution_count": null,
   "id": "01f7bb9e",
   "metadata": {},
   "outputs": [],
   "source": []
  }
 ],
 "metadata": {
  "kernelspec": {
   "display_name": "Python 3 (ipykernel)",
   "language": "python",
   "name": "python3"
  },
  "language_info": {
   "codemirror_mode": {
    "name": "ipython",
    "version": 3
   },
   "file_extension": ".py",
   "mimetype": "text/x-python",
   "name": "python",
   "nbconvert_exporter": "python",
   "pygments_lexer": "ipython3",
   "version": "3.10.6"
  }
 },
 "nbformat": 4,
 "nbformat_minor": 5
}
